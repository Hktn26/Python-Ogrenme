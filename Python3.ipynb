{
 "cells": [
  {
   "cell_type": "markdown",
   "metadata": {},
   "source": [
    "Fonksiyon Yapisi"
   ]
  },
  {
   "cell_type": "code",
   "execution_count": 1,
   "metadata": {},
   "outputs": [],
   "source": [
    "# Kullanimi\n",
    "#! def <fonksiyon_ismi>(<argumanlar>): #? snake_case\n",
    "#!''''''\n",
    "#! Bu kod ne ise yarar                 #? docstring\n",
    "#!''''''\n",
    "#! ...                                 #? return/print"
   ]
  },
  {
   "cell_type": "code",
   "execution_count": 7,
   "metadata": {},
   "outputs": [
    {
     "name": "stdout",
     "output_type": "stream",
     "text": [
      "5 veya Bes\n"
     ]
    }
   ],
   "source": [
    "def bes_bastir():\n",
    "    \"\"\"\n",
    "    *5 rakamini bastirmak icin yazdigimiz fonksiyon.\n",
    "    \"\"\"\n",
    "    print('5 veya Bes')\n",
    "\n",
    "\n",
    "# ? Fonksiyonu calistirma\n",
    "bes_bastir()"
   ]
  },
  {
   "cell_type": "markdown",
   "metadata": {},
   "source": [
    "Fonksiyonlarda print ve return farki"
   ]
  },
  {
   "cell_type": "code",
   "execution_count": 14,
   "metadata": {},
   "outputs": [
    {
     "data": {
      "text/plain": [
       "5"
      ]
     },
     "execution_count": 14,
     "metadata": {},
     "output_type": "execute_result"
    }
   ],
   "source": [
    "\n",
    "#! Kısacası, print() ifadesi ekrana yazdırma işlemini gerçekleştirir, ancak return ifadesi ise bir değer döndürür.\n",
    "\n",
    "def bes_dondur():\n",
    "    return 5\n",
    "\n",
    "bes_dondur()"
   ]
  },
  {
   "cell_type": "code",
   "execution_count": 13,
   "metadata": {},
   "outputs": [
    {
     "name": "stdout",
     "output_type": "stream",
     "text": [
      "5\n",
      "5 veya Bes\n",
      "None\n"
     ]
    }
   ],
   "source": [
    "a = bes_dondur()\n",
    "a #! 5\n",
    "print(a) #? 5\n",
    "b = bes_bastir()\n",
    "b #! 5 veya Bes\n",
    "print(b) #? None"
   ]
  },
  {
   "cell_type": "markdown",
   "metadata": {},
   "source": [
    "Fonksiyonlarda Argumanlar"
   ]
  },
  {
   "cell_type": "code",
   "execution_count": 15,
   "metadata": {},
   "outputs": [
    {
     "data": {
      "text/plain": [
       "10"
      ]
     },
     "execution_count": 15,
     "metadata": {},
     "output_type": "execute_result"
    }
   ],
   "source": [
    "def sayi_dondur(sayi):\n",
    "    return sayi\n",
    "\n",
    "sayi_dondur(10)"
   ]
  },
  {
   "cell_type": "code",
   "execution_count": 20,
   "metadata": {},
   "outputs": [
    {
     "data": {
      "text/plain": [
       "29"
      ]
     },
     "execution_count": 20,
     "metadata": {},
     "output_type": "execute_result"
    }
   ],
   "source": [
    "def sayi_dondur(sayi = 250):\n",
    "    return sayi\n",
    "\n",
    "sayi_dondur() # 250\n",
    "#! default sayi dondurdu\n",
    "sayi_dondur(29) #29"
   ]
  },
  {
   "cell_type": "code",
   "execution_count": 23,
   "metadata": {},
   "outputs": [
    {
     "data": {
      "text/plain": [
       "9"
      ]
     },
     "execution_count": 23,
     "metadata": {},
     "output_type": "execute_result"
    }
   ],
   "source": [
    "def buyuk_sayi_dondur(a, b):\n",
    "    if a > b:\n",
    "        return a\n",
    "    elif b > a:\n",
    "        return b\n",
    "\n",
    "buyuk_sayi_dondur(10,11) #11\n",
    "buyuk_sayi_dondur(9,8) #9"
   ]
  },
  {
   "cell_type": "markdown",
   "metadata": {},
   "source": [
    "Fonksiyonlarin Birbiri ile iliskisi"
   ]
  },
  {
   "cell_type": "code",
   "execution_count": 25,
   "metadata": {},
   "outputs": [
    {
     "name": "stdout",
     "output_type": "stream",
     "text": [
      "22 ve 23 den 23, daha buyuk sayidir\n"
     ]
    }
   ],
   "source": [
    "def metin_yazdir(a,b):\n",
    "    buyuk_sayi = buyuk_sayi_dondur(a,b)\n",
    "    sablon_metin = f'{a} ve {b} den {buyuk_sayi}, daha buyuk sayidir'\n",
    "    print(sablon_metin)\n",
    "\n",
    "metin_yazdir(22,23)"
   ]
  },
  {
   "cell_type": "markdown",
   "metadata": {},
   "source": [
    "Fonksiyonlar Birden Fazla Sonuc Dondurebilir"
   ]
  },
  {
   "cell_type": "code",
   "execution_count": 26,
   "metadata": {},
   "outputs": [
    {
     "data": {
      "text/plain": [
       "['Gokce', 'Gun']"
      ]
     },
     "execution_count": 26,
     "metadata": {},
     "output_type": "execute_result"
    }
   ],
   "source": [
    "\"Gokce Gun\".split()"
   ]
  },
  {
   "cell_type": "code",
   "execution_count": 35,
   "metadata": {},
   "outputs": [
    {
     "data": {
      "text/plain": [
       "('Emir', 'Haktan')"
      ]
     },
     "execution_count": 35,
     "metadata": {},
     "output_type": "execute_result"
    }
   ],
   "source": [
    "def isim_soyisim_ayirma(isim_soyisim):\n",
    "    isim = isim_soyisim.split()[0]  # İsim almak için\n",
    "    if len(isim_soyisim.split()) > 2:\n",
    "        ikinci_isim = isim_soyisim.split()[1]\n",
    "        soyisim = isim_soyisim.split()[2]\n",
    "        return (isim, ikinci_isim, soyisim)\n",
    "    else:    \n",
    "        soyisim = isim_soyisim.split()[1]   # Soyismi almak icin\n",
    "    return (isim, soyisim)\n",
    "\n",
    "isim_soyisim_ayirma('Emir Haktan')"
   ]
  },
  {
   "cell_type": "markdown",
   "metadata": {},
   "source": [
    "*args Argumani"
   ]
  },
  {
   "cell_type": "code",
   "execution_count": null,
   "metadata": {},
   "outputs": [],
   "source": []
  },
  {
   "cell_type": "code",
   "execution_count": null,
   "metadata": {},
   "outputs": [],
   "source": []
  }
 ],
 "metadata": {
  "kernelspec": {
   "display_name": "Python 3",
   "language": "python",
   "name": "python3"
  },
  "language_info": {
   "codemirror_mode": {
    "name": "ipython",
    "version": 3
   },
   "file_extension": ".py",
   "mimetype": "text/x-python",
   "name": "python",
   "nbconvert_exporter": "python",
   "pygments_lexer": "ipython3",
   "version": "3.12.0"
  }
 },
 "nbformat": 4,
 "nbformat_minor": 2
}
