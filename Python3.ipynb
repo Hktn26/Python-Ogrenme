{
 "cells": [
  {
   "cell_type": "markdown",
   "metadata": {},
   "source": [
    "Fonksiyon Yapisi"
   ]
  },
  {
   "cell_type": "code",
   "execution_count": 1,
   "metadata": {},
   "outputs": [],
   "source": [
    "# Kullanimi\n",
    "#! def <fonksiyon_ismi>(<argumanlar>): #? snake_case\n",
    "#!''''''\n",
    "#! Bu kod ne ise yarar                 #? docstring\n",
    "#!''''''\n",
    "#! ...                                 #? return/print"
   ]
  },
  {
   "cell_type": "code",
   "execution_count": 7,
   "metadata": {},
   "outputs": [
    {
     "name": "stdout",
     "output_type": "stream",
     "text": [
      "5 veya Bes\n"
     ]
    }
   ],
   "source": [
    "def bes_bastir():\n",
    "    \"\"\"\n",
    "    *5 rakamini bastirmak icin yazdigimiz fonksiyon.\n",
    "    \"\"\"\n",
    "    print('5 veya Bes')\n",
    "\n",
    "\n",
    "# ? Fonksiyonu calistirma\n",
    "bes_bastir()"
   ]
  },
  {
   "cell_type": "markdown",
   "metadata": {},
   "source": [
    "Fonksiyonlarda print ve return farki"
   ]
  },
  {
   "cell_type": "code",
   "execution_count": 14,
   "metadata": {},
   "outputs": [
    {
     "data": {
      "text/plain": [
       "5"
      ]
     },
     "execution_count": 14,
     "metadata": {},
     "output_type": "execute_result"
    }
   ],
   "source": [
    "\n",
    "#! Kısacası, print() ifadesi ekrana yazdırma işlemini gerçekleştirir, ancak return ifadesi ise bir değer döndürür.\n",
    "\n",
    "def bes_dondur():\n",
    "    return 5\n",
    "\n",
    "bes_dondur()"
   ]
  },
  {
   "cell_type": "code",
   "execution_count": 13,
   "metadata": {},
   "outputs": [
    {
     "name": "stdout",
     "output_type": "stream",
     "text": [
      "5\n",
      "5 veya Bes\n",
      "None\n"
     ]
    }
   ],
   "source": [
    "a = bes_dondur()\n",
    "a #! 5\n",
    "print(a) #? 5\n",
    "b = bes_bastir()\n",
    "b #! 5 veya Bes\n",
    "print(b) #? None"
   ]
  },
  {
   "cell_type": "markdown",
   "metadata": {},
   "source": [
    "Fonksiyonlarda Argumanlar"
   ]
  },
  {
   "cell_type": "code",
   "execution_count": 15,
   "metadata": {},
   "outputs": [
    {
     "data": {
      "text/plain": [
       "10"
      ]
     },
     "execution_count": 15,
     "metadata": {},
     "output_type": "execute_result"
    }
   ],
   "source": [
    "def sayi_dondur(sayi):\n",
    "    return sayi\n",
    "\n",
    "sayi_dondur(10)"
   ]
  },
  {
   "cell_type": "code",
   "execution_count": 20,
   "metadata": {},
   "outputs": [
    {
     "data": {
      "text/plain": [
       "29"
      ]
     },
     "execution_count": 20,
     "metadata": {},
     "output_type": "execute_result"
    }
   ],
   "source": [
    "def sayi_dondur(sayi = 250):\n",
    "    return sayi\n",
    "\n",
    "sayi_dondur() # 250\n",
    "#! default sayi dondurdu\n",
    "sayi_dondur(29) #29"
   ]
  },
  {
   "cell_type": "code",
   "execution_count": 23,
   "metadata": {},
   "outputs": [
    {
     "data": {
      "text/plain": [
       "9"
      ]
     },
     "execution_count": 23,
     "metadata": {},
     "output_type": "execute_result"
    }
   ],
   "source": [
    "def buyuk_sayi_dondur(a, b):\n",
    "    if a > b:\n",
    "        return a\n",
    "    elif b > a:\n",
    "        return b\n",
    "\n",
    "buyuk_sayi_dondur(10,11) #11\n",
    "buyuk_sayi_dondur(9,8) #9"
   ]
  },
  {
   "cell_type": "markdown",
   "metadata": {},
   "source": [
    "Fonksiyonlarin Birbiri ile iliskisi"
   ]
  },
  {
   "cell_type": "code",
   "execution_count": 25,
   "metadata": {},
   "outputs": [
    {
     "name": "stdout",
     "output_type": "stream",
     "text": [
      "22 ve 23 den 23, daha buyuk sayidir\n"
     ]
    }
   ],
   "source": [
    "def metin_yazdir(a,b):\n",
    "    buyuk_sayi = buyuk_sayi_dondur(a,b)\n",
    "    sablon_metin = f'{a} ve {b} den {buyuk_sayi}, daha buyuk sayidir'\n",
    "    print(sablon_metin)\n",
    "\n",
    "metin_yazdir(22,23)"
   ]
  },
  {
   "cell_type": "markdown",
   "metadata": {},
   "source": [
    "Fonksiyonlar Birden Fazla Sonuc Dondurebilir"
   ]
  },
  {
   "cell_type": "code",
   "execution_count": 26,
   "metadata": {},
   "outputs": [
    {
     "data": {
      "text/plain": [
       "['Gokce', 'Gun']"
      ]
     },
     "execution_count": 26,
     "metadata": {},
     "output_type": "execute_result"
    }
   ],
   "source": [
    "\"Gokce Gun\".split()"
   ]
  },
  {
   "cell_type": "code",
   "execution_count": 35,
   "metadata": {},
   "outputs": [
    {
     "data": {
      "text/plain": [
       "('Emir', 'Haktan')"
      ]
     },
     "execution_count": 35,
     "metadata": {},
     "output_type": "execute_result"
    }
   ],
   "source": [
    "def isim_soyisim_ayirma(isim_soyisim):\n",
    "    isim = isim_soyisim.split()[0]  # İsim almak için\n",
    "    if len(isim_soyisim.split()) > 2:\n",
    "        ikinci_isim = isim_soyisim.split()[1]\n",
    "        soyisim = isim_soyisim.split()[2]\n",
    "        return (isim, ikinci_isim, soyisim)\n",
    "    else:    \n",
    "        soyisim = isim_soyisim.split()[1]   # Soyismi almak icin\n",
    "    return (isim, soyisim)\n",
    "\n",
    "isim_soyisim_ayirma('Emir Haktan')"
   ]
  },
  {
   "cell_type": "markdown",
   "metadata": {},
   "source": [
    "*args Argumani"
   ]
  },
  {
   "cell_type": "code",
   "execution_count": 3,
   "metadata": {},
   "outputs": [
    {
     "data": {
      "text/plain": [
       "'Gokce Arslan'"
      ]
     },
     "execution_count": 3,
     "metadata": {},
     "output_type": "execute_result"
    }
   ],
   "source": [
    "\" \".join([\"Gokce\",\"Arslan\"])"
   ]
  },
  {
   "cell_type": "code",
   "execution_count": 5,
   "metadata": {},
   "outputs": [
    {
     "data": {
      "text/plain": [
       "'Emir Haktan'"
      ]
     },
     "execution_count": 5,
     "metadata": {},
     "output_type": "execute_result"
    }
   ],
   "source": [
    "def isim_soyisim_birlestir(isim, soyisim):\n",
    "    return \" \".join([isim, soyisim])\n",
    "\n",
    "isim_soyisim_birlestir(\"Emir\",\"Haktan\")"
   ]
  },
  {
   "cell_type": "code",
   "execution_count": 7,
   "metadata": {},
   "outputs": [
    {
     "name": "stdout",
     "output_type": "stream",
     "text": [
      "Emir\n",
      "Haktan\n",
      "Coskuner\n"
     ]
    },
    {
     "data": {
      "text/plain": [
       "'Emir Haktan Coskuner'"
      ]
     },
     "execution_count": 7,
     "metadata": {},
     "output_type": "execute_result"
    }
   ],
   "source": [
    "def isim_soyisim_birlestir(*args):\n",
    "    for item in args:\n",
    "        print(item)\n",
    "    return \" \".join(args)\n",
    "isim_soyisim_birlestir(\"Emir\",\"Haktan\",\"Coskuner\")"
   ]
  },
  {
   "cell_type": "markdown",
   "metadata": {},
   "source": [
    "**kwargs"
   ]
  },
  {
   "cell_type": "code",
   "execution_count": 10,
   "metadata": {},
   "outputs": [
    {
     "name": "stdout",
     "output_type": "stream",
     "text": [
      "Haktan\n"
     ]
    }
   ],
   "source": [
    "def gobek_adi_yazdir(**kwargs):\n",
    "    if 'gobekadi' in kwargs:\n",
    "        print(kwargs['gobekadi'])\n",
    "    else:\n",
    "        print(\"Gobekadi Yok!\")\n",
    "\n",
    "gobek_adi_yazdir(adi= 'Emir',gobekadi='Haktan',soyadi='Coskuner')"
   ]
  },
  {
   "cell_type": "code",
   "execution_count": 11,
   "metadata": {},
   "outputs": [
    {
     "name": "stdout",
     "output_type": "stream",
     "text": [
      "Gobekadi Yok!\n"
     ]
    }
   ],
   "source": [
    "gobek_adi_yazdir(adi= 'Emir',soyadi='Coskuner')"
   ]
  },
  {
   "cell_type": "markdown",
   "metadata": {},
   "source": [
    "map, filter, lambda Expressions "
   ]
  },
  {
   "cell_type": "code",
   "execution_count": 1,
   "metadata": {},
   "outputs": [
    {
     "data": {
      "text/plain": [
       "25"
      ]
     },
     "execution_count": 1,
     "metadata": {},
     "output_type": "execute_result"
    }
   ],
   "source": [
    "def karesini_al(x):\n",
    "    return x**2\n",
    "\n",
    "karesini_al(5)"
   ]
  },
  {
   "cell_type": "code",
   "execution_count": 4,
   "metadata": {},
   "outputs": [
    {
     "name": "stdout",
     "output_type": "stream",
     "text": [
      "[1, 2, 3, 4, 5]\n",
      "[1, 4, 9, 16, 25]\n"
     ]
    }
   ],
   "source": [
    "# map kullanmadan yapilir\n",
    "sayilar = [*range(1,6)]\n",
    "print(sayilar)\n",
    "for index in range(len(sayilar)):\n",
    "    sayilar[index] = karesini_al(sayilar[index])\n",
    "print(sayilar)"
   ]
  },
  {
   "cell_type": "code",
   "execution_count": 6,
   "metadata": {},
   "outputs": [
    {
     "data": {
      "text/plain": [
       "[1, 4, 9, 16, 25]"
      ]
     },
     "execution_count": 6,
     "metadata": {},
     "output_type": "execute_result"
    }
   ],
   "source": [
    "# map kullanilarak yapilan\n",
    "sayilar = [*range(1,6)]\n",
    "[*map(karesini_al, sayilar)]"
   ]
  },
  {
   "cell_type": "code",
   "execution_count": 13,
   "metadata": {},
   "outputs": [
    {
     "data": {
      "text/plain": [
       "4"
      ]
     },
     "execution_count": 13,
     "metadata": {},
     "output_type": "execute_result"
    }
   ],
   "source": [
    "# filter kullanmadan yapilan\n",
    "\n",
    "#! def cift_sayilari_filtrele(x):\n",
    "#!     if x%2==0:\n",
    "#!         return x\n",
    "#!     else:\n",
    "#!         None\n",
    "\n",
    "\n",
    "def cift_sayilari_filtrele(x):\n",
    "    return x if x%2==0 else None\n",
    "    #profesyonel yazim\n",
    "cift_sayilari_filtrele(4)"
   ]
  },
  {
   "cell_type": "code",
   "execution_count": 14,
   "metadata": {},
   "outputs": [
    {
     "data": {
      "text/plain": [
       "[2, 4, 6, 8]"
      ]
     },
     "execution_count": 14,
     "metadata": {},
     "output_type": "execute_result"
    }
   ],
   "source": [
    "# filter kullanara\n",
    "sayilar = [*range(1,9)]\n",
    "[*filter(cift_sayilari_filtrele, sayilar)]"
   ]
  },
  {
   "cell_type": "code",
   "execution_count": 15,
   "metadata": {},
   "outputs": [
    {
     "data": {
      "text/plain": [
       "[1, 4, 9, 16, 25, 36, 49, 64]"
      ]
     },
     "execution_count": 15,
     "metadata": {},
     "output_type": "execute_result"
    }
   ],
   "source": [
    "sayilar = [*range(1,9)]\n",
    "[*map(lambda sayi: sayi**2, sayilar)]"
   ]
  },
  {
   "cell_type": "code",
   "execution_count": 16,
   "metadata": {},
   "outputs": [
    {
     "data": {
      "text/plain": [
       "[2, 4, 6, 8, 10, 12, 14, 16, 18, 20]"
      ]
     },
     "execution_count": 16,
     "metadata": {},
     "output_type": "execute_result"
    }
   ],
   "source": [
    "sayilar = [*range(1,21)]\n",
    "[*filter(lambda x: x if x%2==0 else None, sayilar)]"
   ]
  },
  {
   "cell_type": "markdown",
   "metadata": {},
   "source": [
    "Kullanici Girdisi"
   ]
  },
  {
   "cell_type": "code",
   "execution_count": 17,
   "metadata": {},
   "outputs": [
    {
     "data": {
      "text/plain": [
       "'18'"
      ]
     },
     "execution_count": 17,
     "metadata": {},
     "output_type": "execute_result"
    }
   ],
   "source": [
    "input(\"Bir Sayi Grin:\") # Girdi aldik"
   ]
  },
  {
   "cell_type": "code",
   "execution_count": 19,
   "metadata": {},
   "outputs": [
    {
     "data": {
      "text/plain": [
       "str"
      ]
     },
     "execution_count": 19,
     "metadata": {},
     "output_type": "execute_result"
    }
   ],
   "source": [
    "girdi = input(\"Bir Sayi Grin:\")\n",
    "type(girdi)"
   ]
  },
  {
   "cell_type": "code",
   "execution_count": 20,
   "metadata": {},
   "outputs": [
    {
     "data": {
      "text/plain": [
       "int"
      ]
     },
     "execution_count": 20,
     "metadata": {},
     "output_type": "execute_result"
    }
   ],
   "source": [
    "girdi = input(\"Bir Sayi Grin:\")\n",
    "type(int(girdi))"
   ]
  },
  {
   "cell_type": "code",
   "execution_count": 27,
   "metadata": {},
   "outputs": [],
   "source": [
    "def uygulama():\n",
    "    girdi = input(\"Bir sayi girin:\")\n",
    "    islem = input(\"Verinin tek mi cift mi oldugunu sorgula: \")\n",
    "\n",
    "    if islem=='cift':\n",
    "        if int(girdi)%2==0:\n",
    "            return f'Evet {girdi} bir cift sayidir.'\n",
    "        else:\n",
    "            return f'Hayir {girdi} bir cift sayilmamalari icin.'\n",
    "    elif islem=='tek':\n",
    "        if int(girdi)%2==1:\n",
    "            return f'Evet {girdi} bir tek sayidir.'\n",
    "        else:\n",
    "            return f'Hayir {girdi} bir cift sayi degildir.'"
   ]
  },
  {
   "cell_type": "code",
   "execution_count": 28,
   "metadata": {},
   "outputs": [
    {
     "data": {
      "text/plain": [
       "'Evet 5 bir tek sayidir.'"
      ]
     },
     "execution_count": 28,
     "metadata": {},
     "output_type": "execute_result"
    }
   ],
   "source": [
    "uygulama()"
   ]
  },
  {
   "cell_type": "markdown",
   "metadata": {},
   "source": [
    "Kullanici Girdisini Onaylamak"
   ]
  },
  {
   "cell_type": "code",
   "execution_count": 2,
   "metadata": {},
   "outputs": [
    {
     "name": "stdout",
     "output_type": "stream",
     "text": [
      "Tebrikler Sayi Tipi deger girdiniz...\n"
     ]
    }
   ],
   "source": [
    "def sayi_girdisi_kontrol():\n",
    "    girdi = input('Bir Sayi Giriniz: ')\n",
    "\n",
    "    if girdi.isdigit():\n",
    "        print(\"Tebrikler Sayi Tipi deger girdiniz...\")\n",
    "    else:\n",
    "        print(\"Uzgunum bu bir sayi tipi degildir...\")\n",
    "\n",
    "sayi_girdisi_kontrol()"
   ]
  },
  {
   "cell_type": "code",
   "execution_count": 3,
   "metadata": {},
   "outputs": [
    {
     "name": "stdout",
     "output_type": "stream",
     "text": [
      "Uzgunum bu bir sayi tipi degildir...\n",
      "Uzgunum bu bir sayi tipi degildir...\n",
      "Uzgunum bu bir sayi tipi degildir...\n",
      "Uzgunum bu bir sayi tipi degildir...\n",
      "Uzgunum bu bir sayi tipi degildir...\n",
      "Tebrikler Sayi Tipi deger girdiniz...\n"
     ]
    }
   ],
   "source": [
    "def sayi_girdisi_kontrol_dongu():\n",
    "    girdi = input('Bir Sayi Giriniz: ')\n",
    "\n",
    "    while not girdi.isdigit():\n",
    "        print(\"Uzgunum bu bir sayi tipi degildir...\")\n",
    "        girdi = input('Bir Sayi Giriniz: ')\n",
    "    else:\n",
    "        print(\"Tebrikler Sayi Tipi deger girdiniz...\")\n",
    "\n",
    "sayi_girdisi_kontrol_dongu()"
   ]
  },
  {
   "cell_type": "code",
   "execution_count": 7,
   "metadata": {},
   "outputs": [
    {
     "name": "stdout",
     "output_type": "stream",
     "text": [
      "Tebrikler! E-posta adresinizle basriyla giris yaptiniz.\n"
     ]
    }
   ],
   "source": [
    "def eposta_kontrol():\n",
    "    girdi = input(\"Gecerli bir eposta adresi giriniz: \")\n",
    "\n",
    "    while not (('.' in girdi) and ('@' in girdi)):\n",
    "        print(\"Uzgunum! Gecerli bir E-posta adresi giriniz.\")\n",
    "        girdi = input(\"Gecerli bir eposta adresi giriniz: \")\n",
    "    else:\n",
    "        print(\"Tebrikler! E-posta adresinizle basriyla giris yaptiniz.\")\n",
    "\n",
    "eposta_kontrol()\n",
    "    "
   ]
  },
  {
   "cell_type": "code",
   "execution_count": 5,
   "metadata": {},
   "outputs": [
    {
     "data": {
      "text/plain": [
       "False"
      ]
     },
     "execution_count": 5,
     "metadata": {},
     "output_type": "execute_result"
    }
   ],
   "source": [
    "# girdi = 'Emirhaktan26@gmail.com'\n",
    "# not (('.' in girdi) and ('@' in girdi))  or len(girdi) < 5\n",
    "# print(not (('.' in  girdi) and ('@' in girdi))) or len(girdi)<5"
   ]
  },
  {
   "cell_type": "code",
   "execution_count": null,
   "metadata": {},
   "outputs": [],
   "source": []
  }
 ],
 "metadata": {
  "kernelspec": {
   "display_name": "Python 3",
   "language": "python",
   "name": "python3"
  },
  "language_info": {
   "codemirror_mode": {
    "name": "ipython",
    "version": 3
   },
   "file_extension": ".py",
   "mimetype": "text/x-python",
   "name": "python",
   "nbconvert_exporter": "python",
   "pygments_lexer": "ipython3",
   "version": "3.12.0"
  }
 },
 "nbformat": 4,
 "nbformat_minor": 2
}
