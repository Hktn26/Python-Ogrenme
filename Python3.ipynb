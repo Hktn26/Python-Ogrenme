{
 "cells": [
  {
   "cell_type": "markdown",
   "metadata": {},
   "source": [
    "Fonksiyon Yapisi"
   ]
  },
  {
   "cell_type": "code",
   "execution_count": 1,
   "metadata": {},
   "outputs": [],
   "source": [
    "# Kullanimi\n",
    "#! def <fonksiyon_ismi>(<argumanlar>): #? snake_case\n",
    "#!''''''\n",
    "#! Bu kod ne ise yarar                 #? docstring\n",
    "#!''''''\n",
    "#! ...                                 #? return/print"
   ]
  },
  {
   "cell_type": "code",
   "execution_count": 7,
   "metadata": {},
   "outputs": [
    {
     "name": "stdout",
     "output_type": "stream",
     "text": [
      "5 veya Bes\n"
     ]
    }
   ],
   "source": [
    "def bes_bastir():\n",
    "    \"\"\"\n",
    "    *5 rakamini bastirmak icin yazdigimiz fonksiyon.\n",
    "    \"\"\"\n",
    "    print('5 veya Bes')\n",
    "\n",
    "\n",
    "# ? Fonksiyonu calistirma\n",
    "bes_bastir()"
   ]
  },
  {
   "cell_type": "markdown",
   "metadata": {},
   "source": [
    "Fonksiyonlarda print ve return farki"
   ]
  },
  {
   "cell_type": "code",
   "execution_count": 14,
   "metadata": {},
   "outputs": [
    {
     "data": {
      "text/plain": [
       "5"
      ]
     },
     "execution_count": 14,
     "metadata": {},
     "output_type": "execute_result"
    }
   ],
   "source": [
    "\n",
    "#! Kısacası, print() ifadesi ekrana yazdırma işlemini gerçekleştirir, ancak return ifadesi ise bir değer döndürür.\n",
    "\n",
    "def bes_dondur():\n",
    "    return 5\n",
    "\n",
    "bes_dondur()"
   ]
  },
  {
   "cell_type": "code",
   "execution_count": 13,
   "metadata": {},
   "outputs": [
    {
     "name": "stdout",
     "output_type": "stream",
     "text": [
      "5\n",
      "5 veya Bes\n",
      "None\n"
     ]
    }
   ],
   "source": [
    "a = bes_dondur()\n",
    "a #! 5\n",
    "print(a) #? 5\n",
    "b = bes_bastir()\n",
    "b #! 5 veya Bes\n",
    "print(b) #? None"
   ]
  },
  {
   "cell_type": "markdown",
   "metadata": {},
   "source": [
    "Fonksiyonlarda Argumanlar"
   ]
  },
  {
   "cell_type": "code",
   "execution_count": 15,
   "metadata": {},
   "outputs": [
    {
     "data": {
      "text/plain": [
       "10"
      ]
     },
     "execution_count": 15,
     "metadata": {},
     "output_type": "execute_result"
    }
   ],
   "source": [
    "def sayi_dondur(sayi):\n",
    "    return sayi\n",
    "\n",
    "sayi_dondur(10)"
   ]
  },
  {
   "cell_type": "code",
   "execution_count": 20,
   "metadata": {},
   "outputs": [
    {
     "data": {
      "text/plain": [
       "29"
      ]
     },
     "execution_count": 20,
     "metadata": {},
     "output_type": "execute_result"
    }
   ],
   "source": [
    "def sayi_dondur(sayi = 250):\n",
    "    return sayi\n",
    "\n",
    "sayi_dondur() # 250\n",
    "#! default sayi dondurdu\n",
    "sayi_dondur(29) #29"
   ]
  },
  {
   "cell_type": "code",
   "execution_count": 23,
   "metadata": {},
   "outputs": [
    {
     "data": {
      "text/plain": [
       "9"
      ]
     },
     "execution_count": 23,
     "metadata": {},
     "output_type": "execute_result"
    }
   ],
   "source": [
    "def buyuk_sayi_dondur(a, b):\n",
    "    if a > b:\n",
    "        return a\n",
    "    elif b > a:\n",
    "        return b\n",
    "\n",
    "buyuk_sayi_dondur(10,11) #11\n",
    "buyuk_sayi_dondur(9,8) #9"
   ]
  },
  {
   "cell_type": "markdown",
   "metadata": {},
   "source": [
    "Fonksiyonlarin Birbiri ile iliskisi"
   ]
  },
  {
   "cell_type": "code",
   "execution_count": 25,
   "metadata": {},
   "outputs": [
    {
     "name": "stdout",
     "output_type": "stream",
     "text": [
      "22 ve 23 den 23, daha buyuk sayidir\n"
     ]
    }
   ],
   "source": [
    "def metin_yazdir(a,b):\n",
    "    buyuk_sayi = buyuk_sayi_dondur(a,b)\n",
    "    sablon_metin = f'{a} ve {b} den {buyuk_sayi}, daha buyuk sayidir'\n",
    "    print(sablon_metin)\n",
    "\n",
    "metin_yazdir(22,23)"
   ]
  },
  {
   "cell_type": "markdown",
   "metadata": {},
   "source": [
    "Fonksiyonlar Birden Fazla Sonuc Dondurebilir"
   ]
  },
  {
   "cell_type": "code",
   "execution_count": 26,
   "metadata": {},
   "outputs": [
    {
     "data": {
      "text/plain": [
       "['Gokce', 'Gun']"
      ]
     },
     "execution_count": 26,
     "metadata": {},
     "output_type": "execute_result"
    }
   ],
   "source": [
    "\"Gokce Gun\".split()"
   ]
  },
  {
   "cell_type": "code",
   "execution_count": 35,
   "metadata": {},
   "outputs": [
    {
     "data": {
      "text/plain": [
       "('Emir', 'Haktan')"
      ]
     },
     "execution_count": 35,
     "metadata": {},
     "output_type": "execute_result"
    }
   ],
   "source": [
    "def isim_soyisim_ayirma(isim_soyisim):\n",
    "    isim = isim_soyisim.split()[0]  # İsim almak için\n",
    "    if len(isim_soyisim.split()) > 2:\n",
    "        ikinci_isim = isim_soyisim.split()[1]\n",
    "        soyisim = isim_soyisim.split()[2]\n",
    "        return (isim, ikinci_isim, soyisim)\n",
    "    else:    \n",
    "        soyisim = isim_soyisim.split()[1]   # Soyismi almak icin\n",
    "    return (isim, soyisim)\n",
    "\n",
    "isim_soyisim_ayirma('Emir Haktan')"
   ]
  },
  {
   "cell_type": "markdown",
   "metadata": {},
   "source": [
    "*args Argumani"
   ]
  },
  {
   "cell_type": "code",
   "execution_count": 3,
   "metadata": {},
   "outputs": [
    {
     "data": {
      "text/plain": [
       "'Gokce Arslan'"
      ]
     },
     "execution_count": 3,
     "metadata": {},
     "output_type": "execute_result"
    }
   ],
   "source": [
    "\" \".join([\"Gokce\",\"Arslan\"])"
   ]
  },
  {
   "cell_type": "code",
   "execution_count": 5,
   "metadata": {},
   "outputs": [
    {
     "data": {
      "text/plain": [
       "'Emir Haktan'"
      ]
     },
     "execution_count": 5,
     "metadata": {},
     "output_type": "execute_result"
    }
   ],
   "source": [
    "def isim_soyisim_birlestir(isim, soyisim):\n",
    "    return \" \".join([isim, soyisim])\n",
    "\n",
    "isim_soyisim_birlestir(\"Emir\",\"Haktan\")"
   ]
  },
  {
   "cell_type": "code",
   "execution_count": 7,
   "metadata": {},
   "outputs": [
    {
     "name": "stdout",
     "output_type": "stream",
     "text": [
      "Emir\n",
      "Haktan\n",
      "Coskuner\n"
     ]
    },
    {
     "data": {
      "text/plain": [
       "'Emir Haktan Coskuner'"
      ]
     },
     "execution_count": 7,
     "metadata": {},
     "output_type": "execute_result"
    }
   ],
   "source": [
    "def isim_soyisim_birlestir(*args):\n",
    "    for item in args:\n",
    "        print(item)\n",
    "    return \" \".join(args)\n",
    "isim_soyisim_birlestir(\"Emir\",\"Haktan\",\"Coskuner\")"
   ]
  },
  {
   "cell_type": "markdown",
   "metadata": {},
   "source": [
    "**kwargs"
   ]
  },
  {
   "cell_type": "code",
   "execution_count": 10,
   "metadata": {},
   "outputs": [
    {
     "name": "stdout",
     "output_type": "stream",
     "text": [
      "Haktan\n"
     ]
    }
   ],
   "source": [
    "def gobek_adi_yazdir(**kwargs):\n",
    "    if 'gobekadi' in kwargs:\n",
    "        print(kwargs['gobekadi'])\n",
    "    else:\n",
    "        print(\"Gobekadi Yok!\")\n",
    "\n",
    "gobek_adi_yazdir(adi= 'Emir',gobekadi='Haktan',soyadi='Coskuner')"
   ]
  },
  {
   "cell_type": "code",
   "execution_count": 11,
   "metadata": {},
   "outputs": [
    {
     "name": "stdout",
     "output_type": "stream",
     "text": [
      "Gobekadi Yok!\n"
     ]
    }
   ],
   "source": [
    "gobek_adi_yazdir(adi= 'Emir',soyadi='Coskuner')"
   ]
  },
  {
   "cell_type": "markdown",
   "metadata": {},
   "source": [
    "map, filter, lambda Expressions "
   ]
  },
  {
   "cell_type": "code",
   "execution_count": 1,
   "metadata": {},
   "outputs": [
    {
     "data": {
      "text/plain": [
       "25"
      ]
     },
     "execution_count": 1,
     "metadata": {},
     "output_type": "execute_result"
    }
   ],
   "source": [
    "def karesini_al(x):\n",
    "    return x**2\n",
    "\n",
    "karesini_al(5)"
   ]
  },
  {
   "cell_type": "code",
   "execution_count": 4,
   "metadata": {},
   "outputs": [
    {
     "name": "stdout",
     "output_type": "stream",
     "text": [
      "[1, 2, 3, 4, 5]\n",
      "[1, 4, 9, 16, 25]\n"
     ]
    }
   ],
   "source": [
    "# map kullanmadan yapilir\n",
    "sayilar = [*range(1,6)]\n",
    "print(sayilar)\n",
    "for index in range(len(sayilar)):\n",
    "    sayilar[index] = karesini_al(sayilar[index])\n",
    "print(sayilar)"
   ]
  },
  {
   "cell_type": "code",
   "execution_count": 6,
   "metadata": {},
   "outputs": [
    {
     "data": {
      "text/plain": [
       "[1, 4, 9, 16, 25]"
      ]
     },
     "execution_count": 6,
     "metadata": {},
     "output_type": "execute_result"
    }
   ],
   "source": [
    "# map kullanilarak yapilan\n",
    "sayilar = [*range(1,6)]\n",
    "[*map(karesini_al, sayilar)]"
   ]
  },
  {
   "cell_type": "code",
   "execution_count": 13,
   "metadata": {},
   "outputs": [
    {
     "data": {
      "text/plain": [
       "4"
      ]
     },
     "execution_count": 13,
     "metadata": {},
     "output_type": "execute_result"
    }
   ],
   "source": [
    "# filter kullanmadan yapilan\n",
    "\n",
    "#! def cift_sayilari_filtrele(x):\n",
    "#!     if x%2==0:\n",
    "#!         return x\n",
    "#!     else:\n",
    "#!         None\n",
    "\n",
    "\n",
    "def cift_sayilari_filtrele(x):\n",
    "    return x if x%2==0 else None\n",
    "    #profesyonel yazim\n",
    "cift_sayilari_filtrele(4)"
   ]
  },
  {
   "cell_type": "code",
   "execution_count": 14,
   "metadata": {},
   "outputs": [
    {
     "data": {
      "text/plain": [
       "[2, 4, 6, 8]"
      ]
     },
     "execution_count": 14,
     "metadata": {},
     "output_type": "execute_result"
    }
   ],
   "source": [
    "# filter kullanara\n",
    "sayilar = [*range(1,9)]\n",
    "[*filter(cift_sayilari_filtrele, sayilar)]"
   ]
  },
  {
   "cell_type": "code",
   "execution_count": 15,
   "metadata": {},
   "outputs": [
    {
     "data": {
      "text/plain": [
       "[1, 4, 9, 16, 25, 36, 49, 64]"
      ]
     },
     "execution_count": 15,
     "metadata": {},
     "output_type": "execute_result"
    }
   ],
   "source": [
    "sayilar = [*range(1,9)]\n",
    "[*map(lambda sayi: sayi**2, sayilar)]"
   ]
  },
  {
   "cell_type": "code",
   "execution_count": 16,
   "metadata": {},
   "outputs": [
    {
     "data": {
      "text/plain": [
       "[2, 4, 6, 8, 10, 12, 14, 16, 18, 20]"
      ]
     },
     "execution_count": 16,
     "metadata": {},
     "output_type": "execute_result"
    }
   ],
   "source": [
    "sayilar = [*range(1,21)]\n",
    "[*filter(lambda x: x if x%2==0 else None, sayilar)]"
   ]
  },
  {
   "cell_type": "markdown",
   "metadata": {},
   "source": [
    "Kullanici Girdisi"
   ]
  },
  {
   "cell_type": "code",
   "execution_count": 17,
   "metadata": {},
   "outputs": [
    {
     "data": {
      "text/plain": [
       "'18'"
      ]
     },
     "execution_count": 17,
     "metadata": {},
     "output_type": "execute_result"
    }
   ],
   "source": [
    "input(\"Bir Sayi Grin:\") # Girdi aldik"
   ]
  },
  {
   "cell_type": "code",
   "execution_count": 19,
   "metadata": {},
   "outputs": [
    {
     "data": {
      "text/plain": [
       "str"
      ]
     },
     "execution_count": 19,
     "metadata": {},
     "output_type": "execute_result"
    }
   ],
   "source": [
    "girdi = input(\"Bir Sayi Grin:\")\n",
    "type(girdi)"
   ]
  },
  {
   "cell_type": "code",
   "execution_count": 20,
   "metadata": {},
   "outputs": [
    {
     "data": {
      "text/plain": [
       "int"
      ]
     },
     "execution_count": 20,
     "metadata": {},
     "output_type": "execute_result"
    }
   ],
   "source": [
    "girdi = input(\"Bir Sayi Grin:\")\n",
    "type(int(girdi))"
   ]
  },
  {
   "cell_type": "code",
   "execution_count": 27,
   "metadata": {},
   "outputs": [],
   "source": [
    "def uygulama():\n",
    "    girdi = input(\"Bir sayi girin:\")\n",
    "    islem = input(\"Verinin tek mi cift mi oldugunu sorgula: \")\n",
    "\n",
    "    if islem=='cift':\n",
    "        if int(girdi)%2==0:\n",
    "            return f'Evet {girdi} bir cift sayidir.'\n",
    "        else:\n",
    "            return f'Hayir {girdi} bir cift sayilmamalari icin.'\n",
    "    elif islem=='tek':\n",
    "        if int(girdi)%2==1:\n",
    "            return f'Evet {girdi} bir tek sayidir.'\n",
    "        else:\n",
    "            return f'Hayir {girdi} bir cift sayi degildir.'"
   ]
  },
  {
   "cell_type": "code",
   "execution_count": 28,
   "metadata": {},
   "outputs": [
    {
     "data": {
      "text/plain": [
       "'Evet 5 bir tek sayidir.'"
      ]
     },
     "execution_count": 28,
     "metadata": {},
     "output_type": "execute_result"
    }
   ],
   "source": [
    "uygulama()"
   ]
  },
  {
   "cell_type": "markdown",
   "metadata": {},
   "source": [
    "Kullanici Girdisini Onaylamak"
   ]
  },
  {
   "cell_type": "code",
   "execution_count": 2,
   "metadata": {},
   "outputs": [
    {
     "name": "stdout",
     "output_type": "stream",
     "text": [
      "Tebrikler Sayi Tipi deger girdiniz...\n"
     ]
    }
   ],
   "source": [
    "def sayi_girdisi_kontrol():\n",
    "    girdi = input('Bir Sayi Giriniz: ')\n",
    "\n",
    "    if girdi.isdigit():\n",
    "        print(\"Tebrikler Sayi Tipi deger girdiniz...\")\n",
    "    else:\n",
    "        print(\"Uzgunum bu bir sayi tipi degildir...\")\n",
    "\n",
    "sayi_girdisi_kontrol()"
   ]
  },
  {
   "cell_type": "code",
   "execution_count": 3,
   "metadata": {},
   "outputs": [
    {
     "name": "stdout",
     "output_type": "stream",
     "text": [
      "Uzgunum bu bir sayi tipi degildir...\n",
      "Uzgunum bu bir sayi tipi degildir...\n",
      "Uzgunum bu bir sayi tipi degildir...\n",
      "Uzgunum bu bir sayi tipi degildir...\n",
      "Uzgunum bu bir sayi tipi degildir...\n",
      "Tebrikler Sayi Tipi deger girdiniz...\n"
     ]
    }
   ],
   "source": [
    "def sayi_girdisi_kontrol_dongu():\n",
    "    girdi = input('Bir Sayi Giriniz: ')\n",
    "\n",
    "    while not girdi.isdigit():\n",
    "        print(\"Uzgunum bu bir sayi tipi degildir...\")\n",
    "        girdi = input('Bir Sayi Giriniz: ')\n",
    "    else:\n",
    "        print(\"Tebrikler Sayi Tipi deger girdiniz...\")\n",
    "\n",
    "sayi_girdisi_kontrol_dongu()"
   ]
  },
  {
   "cell_type": "code",
   "execution_count": 7,
   "metadata": {},
   "outputs": [
    {
     "name": "stdout",
     "output_type": "stream",
     "text": [
      "Tebrikler! E-posta adresinizle basriyla giris yaptiniz.\n"
     ]
    }
   ],
   "source": [
    "def eposta_kontrol():\n",
    "    girdi = input(\"Gecerli bir eposta adresi giriniz: \")\n",
    "\n",
    "    while not (('.' in girdi) and ('@' in girdi)):\n",
    "        print(\"Uzgunum! Gecerli bir E-posta adresi giriniz.\")\n",
    "        girdi = input(\"Gecerli bir eposta adresi giriniz: \")\n",
    "    else:\n",
    "        print(\"Tebrikler! E-posta adresinizle basriyla giris yaptiniz.\")\n",
    "\n",
    "eposta_kontrol()\n",
    "    "
   ]
  },
  {
   "cell_type": "code",
   "execution_count": 5,
   "metadata": {},
   "outputs": [
    {
     "data": {
      "text/plain": [
       "False"
      ]
     },
     "execution_count": 5,
     "metadata": {},
     "output_type": "execute_result"
    }
   ],
   "source": [
    "# girdi = 'Emirhaktan26@gmail.com'\n",
    "# not (('.' in girdi) and ('@' in girdi))  or len(girdi) < 5\n",
    "# print(not (('.' in  girdi) and ('@' in girdi))) or len(girdi)<5"
   ]
  },
  {
   "cell_type": "markdown",
   "metadata": {},
   "source": [
    "Try, Except ve Finally Komutlari"
   ]
  },
  {
   "cell_type": "markdown",
   "metadata": {},
   "source": [
    "https://docs.python.org/3/tutorial/errors.html"
   ]
  },
  {
   "cell_type": "code",
   "execution_count": 1,
   "metadata": {},
   "outputs": [
    {
     "data": {
      "text/plain": [
       "2"
      ]
     },
     "execution_count": 1,
     "metadata": {},
     "output_type": "execute_result"
    }
   ],
   "source": [
    "round(1.6)"
   ]
  },
  {
   "cell_type": "code",
   "execution_count": 6,
   "metadata": {},
   "outputs": [
    {
     "ename": "ValueError",
     "evalue": "could not convert string to float: 'a'",
     "output_type": "error",
     "traceback": [
      "\u001b[1;31m---------------------------------------------------------------------------\u001b[0m",
      "\u001b[1;31mValueError\u001b[0m                                Traceback (most recent call last)",
      "Cell \u001b[1;32mIn[6], line 6\u001b[0m\n\u001b[0;32m      3\u001b[0m     cevrilmis \u001b[38;5;241m=\u001b[39m \u001b[38;5;28mround\u001b[39m(girdi)\n\u001b[0;32m      4\u001b[0m     \u001b[38;5;28mprint\u001b[39m(\u001b[38;5;124mf\u001b[39m\u001b[38;5;124m'\u001b[39m\u001b[38;5;124mYuvarlama islemi sonucu  : \u001b[39m\u001b[38;5;132;01m{\u001b[39;00mcevrilmis\u001b[38;5;132;01m}\u001b[39;00m\u001b[38;5;124m'\u001b[39m)\n\u001b[1;32m----> 6\u001b[0m \u001b[43mtam_sayiya_cevir\u001b[49m\u001b[43m(\u001b[49m\u001b[43m)\u001b[49m\n",
      "Cell \u001b[1;32mIn[6], line 2\u001b[0m, in \u001b[0;36mtam_sayiya_cevir\u001b[1;34m()\u001b[0m\n\u001b[0;32m      1\u001b[0m \u001b[38;5;28;01mdef\u001b[39;00m \u001b[38;5;21mtam_sayiya_cevir\u001b[39m():\n\u001b[1;32m----> 2\u001b[0m     girdi \u001b[38;5;241m=\u001b[39m \u001b[38;5;28;43mfloat\u001b[39;49m\u001b[43m(\u001b[49m\u001b[38;5;28;43minput\u001b[39;49m\u001b[43m(\u001b[49m\u001b[38;5;124;43m'\u001b[39;49m\u001b[38;5;124;43mBir ondalik sayi giriniz: \u001b[39;49m\u001b[38;5;124;43m'\u001b[39;49m\u001b[43m)\u001b[49m\u001b[43m)\u001b[49m\n\u001b[0;32m      3\u001b[0m     cevrilmis \u001b[38;5;241m=\u001b[39m \u001b[38;5;28mround\u001b[39m(girdi)\n\u001b[0;32m      4\u001b[0m     \u001b[38;5;28mprint\u001b[39m(\u001b[38;5;124mf\u001b[39m\u001b[38;5;124m'\u001b[39m\u001b[38;5;124mYuvarlama islemi sonucu  : \u001b[39m\u001b[38;5;132;01m{\u001b[39;00mcevrilmis\u001b[38;5;132;01m}\u001b[39;00m\u001b[38;5;124m'\u001b[39m)\n",
      "\u001b[1;31mValueError\u001b[0m: could not convert string to float: 'a'"
     ]
    }
   ],
   "source": [
    "def tam_sayiya_cevir():\n",
    "    girdi = float(input('Bir ondalik sayi giriniz: '))\n",
    "    cevrilmis = round(girdi)\n",
    "    print(f'Yuvarlama islemi sonucu  : {cevrilmis}')\n",
    "\n",
    "tam_sayiya_cevir()"
   ]
  },
  {
   "cell_type": "code",
   "execution_count": 10,
   "metadata": {},
   "outputs": [
    {
     "name": "stdout",
     "output_type": "stream",
     "text": [
      "Yuvarlama islemi sonucu  : 2\n"
     ]
    }
   ],
   "source": [
    "### Try ve Except ile hata yönetimi ###\n",
    "\n",
    "def tam_sayiya_cevir():\n",
    "    girdi = input('Bir ondalik sayi giriniz: ')\n",
    "    try:\n",
    "        girdi = float(girdi)\n",
    "        cevrilmis = round(girdi)\n",
    "        print(f'Yuvarlama islemi sonucu  : {cevrilmis}')\n",
    "    except:\n",
    "        print(f'{girdi} girdisi ondalik tiple cevrilemiyor.')\n",
    "\n",
    "tam_sayiya_cevir()"
   ]
  },
  {
   "cell_type": "code",
   "execution_count": 12,
   "metadata": {},
   "outputs": [
    {
     "name": "stdout",
     "output_type": "stream",
     "text": [
      "Yuvarlama islemi sonucu  : 2\n"
     ]
    }
   ],
   "source": [
    "### else ile yapilan ###\n",
    "\n",
    "def tam_sayiya_cevir():\n",
    "    girdi = input('Bir ondalik sayi giriniz: ')\n",
    "    try:\n",
    "        girdi = float(girdi)\n",
    "    except:\n",
    "        print(f'{girdi} girdisi ondalik tiple cevrilemiyor.')\n",
    "    else:\n",
    "        cevrilmis = round(girdi)\n",
    "        print(f'Yuvarlama islemi sonucu  : {cevrilmis}')\n",
    "tam_sayiya_cevir()"
   ]
  },
  {
   "cell_type": "code",
   "execution_count": 14,
   "metadata": {},
   "outputs": [
    {
     "name": "stdout",
     "output_type": "stream",
     "text": [
      "Yuvarlama islemi sonucu  : 159\n",
      "Tam sayiya cevirme islemi Basarili olarak tamamlandi!\n"
     ]
    }
   ],
   "source": [
    "### Finally ##################################\n",
    "\n",
    "def tam_sayiya_cevir():\n",
    "    girdi = input('Bir ondalik sayi giriniz: ')\n",
    "    \n",
    "    status = ''\n",
    "\n",
    "    try:\n",
    "        girdi = float(girdi)\n",
    "        cevrilmis = round(girdi)\n",
    "        print(f'Yuvarlama islemi sonucu  : {cevrilmis}')\n",
    "        status = 'Basarili'\n",
    "    except:\n",
    "        print(f'{girdi} girdisi ondalik tiple cevrilemiyor.')\n",
    "        status = 'Basarisiz'\n",
    "    finally:\n",
    "        print(f'Tam sayiya cevirme islemi {status} olarak tamamlandi!')\n",
    "\n",
    "\n",
    "tam_sayiya_cevir()"
   ]
  },
  {
   "cell_type": "code",
   "execution_count": 16,
   "metadata": {},
   "outputs": [
    {
     "name": "stdout",
     "output_type": "stream",
     "text": [
      "a girdisi ondalik tiple cevrilemiyor.\n",
      "a girdisi ondalik tiple cevrilemiyor.\n",
      "a girdisi ondalik tiple cevrilemiyor.\n",
      "a girdisi ondalik tiple cevrilemiyor.\n",
      "Yuvarlama islemi sonucu  : 2\n"
     ]
    }
   ],
   "source": [
    "def tam_sayiya_cevir_dongu():\n",
    "    \n",
    "    while True:  # programın tekrarlanması için döngüye girme\n",
    "        girdi = input('Bir ondalik sayi giriniz: ')\n",
    "        try:\n",
    "            girdi = float(girdi)\n",
    "            cevrilmis = round(girdi)\n",
    "            print(f'Yuvarlama islemi sonucu  : {cevrilmis}')\n",
    "            break\n",
    "        except:\n",
    "            print(f'{girdi} girdisi ondalik tiple cevrilemiyor.')\n",
    "            pass\n",
    "\n",
    "tam_sayiya_cevir_dongu()"
   ]
  },
  {
   "cell_type": "code",
   "execution_count": 17,
   "metadata": {},
   "outputs": [
    {
     "ename": "TypeError",
     "evalue": "unsupported operand type(s) for +: 'int' and 'str'",
     "output_type": "error",
     "traceback": [
      "\u001b[1;31m---------------------------------------------------------------------------\u001b[0m",
      "\u001b[1;31mTypeError\u001b[0m                                 Traceback (most recent call last)",
      "Cell \u001b[1;32mIn[17], line 1\u001b[0m\n\u001b[1;32m----> 1\u001b[0m \u001b[38;5;241;43m5\u001b[39;49m\u001b[43m \u001b[49m\u001b[38;5;241;43m+\u001b[39;49m\u001b[43m \u001b[49m\u001b[38;5;124;43m'\u001b[39;49m\u001b[38;5;124;43ma\u001b[39;49m\u001b[38;5;124;43m'\u001b[39;49m\n",
      "\u001b[1;31mTypeError\u001b[0m: unsupported operand type(s) for +: 'int' and 'str'"
     ]
    }
   ],
   "source": [
    "5 + 'a'"
   ]
  },
  {
   "cell_type": "code",
   "execution_count": 21,
   "metadata": {},
   "outputs": [
    {
     "name": "stdout",
     "output_type": "stream",
     "text": [
      "Girilen islem yapilamiyor!\n"
     ]
    }
   ],
   "source": [
    "try:\n",
    "    5 + 'a'\n",
    "except TypeError:\n",
    "    print('Girilen islem yapilamiyor!')"
   ]
  },
  {
   "cell_type": "code",
   "execution_count": 18,
   "metadata": {},
   "outputs": [
    {
     "ename": "IndexError",
     "evalue": "list index out of range",
     "output_type": "error",
     "traceback": [
      "\u001b[1;31m---------------------------------------------------------------------------\u001b[0m",
      "\u001b[1;31mIndexError\u001b[0m                                Traceback (most recent call last)",
      "Cell \u001b[1;32mIn[18], line 2\u001b[0m\n\u001b[0;32m      1\u001b[0m liste \u001b[38;5;241m=\u001b[39m []\n\u001b[1;32m----> 2\u001b[0m \u001b[43mliste\u001b[49m\u001b[43m[\u001b[49m\u001b[38;5;241;43m4\u001b[39;49m\u001b[43m]\u001b[49m\n",
      "\u001b[1;31mIndexError\u001b[0m: list index out of range"
     ]
    }
   ],
   "source": [
    "liste = []\n",
    "liste[4]"
   ]
  },
  {
   "cell_type": "code",
   "execution_count": 23,
   "metadata": {},
   "outputs": [
    {
     "name": "stdout",
     "output_type": "stream",
     "text": [
      "Boyle bir index yok!\n"
     ]
    }
   ],
   "source": [
    "try:\n",
    "    liste[4]\n",
    "except IndexError:\n",
    "    print('Boyle bir index yok!')"
   ]
  },
  {
   "cell_type": "code",
   "execution_count": 20,
   "metadata": {},
   "outputs": [
    {
     "ename": "KeyError",
     "evalue": "'PASS_NO'",
     "output_type": "error",
     "traceback": [
      "\u001b[1;31m---------------------------------------------------------------------------\u001b[0m",
      "\u001b[1;31mKeyError\u001b[0m                                  Traceback (most recent call last)",
      "Cell \u001b[1;32mIn[20], line 6\u001b[0m\n\u001b[0;32m      1\u001b[0m vatandas \u001b[38;5;241m=\u001b[39m {\n\u001b[0;32m      2\u001b[0m     \u001b[38;5;124m'\u001b[39m\u001b[38;5;124mAD\u001b[39m\u001b[38;5;124m'\u001b[39m : \u001b[38;5;124m'\u001b[39m\u001b[38;5;124mOguz\u001b[39m\u001b[38;5;124m'\u001b[39m,\n\u001b[0;32m      3\u001b[0m     \u001b[38;5;124m'\u001b[39m\u001b[38;5;124mTC_NO\u001b[39m\u001b[38;5;124m'\u001b[39m: \u001b[38;5;241m1234567890\u001b[39m\n\u001b[0;32m      4\u001b[0m } \n\u001b[1;32m----> 6\u001b[0m \u001b[43mvatandas\u001b[49m\u001b[43m[\u001b[49m\u001b[38;5;124;43m'\u001b[39;49m\u001b[38;5;124;43mPASS_NO\u001b[39;49m\u001b[38;5;124;43m'\u001b[39;49m\u001b[43m]\u001b[49m\n",
      "\u001b[1;31mKeyError\u001b[0m: 'PASS_NO'"
     ]
    }
   ],
   "source": [
    "vatandas = {\n",
    "    'AD' : 'Oguz',\n",
    "    'TC_NO': 1234567890\n",
    "} \n",
    "\n",
    "vatandas['PASS_NO']"
   ]
  },
  {
   "cell_type": "code",
   "execution_count": 24,
   "metadata": {},
   "outputs": [
    {
     "name": "stdout",
     "output_type": "stream",
     "text": [
      "Boyle bir key yok!\n"
     ]
    }
   ],
   "source": [
    "try:\n",
    "    vatandas['PASS_NO']\n",
    "except KeyError:\n",
    "    print(\"Boyle bir key yok!\")"
   ]
  },
  {
   "cell_type": "code",
   "execution_count": null,
   "metadata": {},
   "outputs": [],
   "source": [
    "#\n",
    "#! try:\n",
    "#?     # yapilan islem #\n",
    "#! except <Hata ismi>:\n",
    "#?     # hata oldugunda calisacak kod\n",
    "#! except <Hata ismi>:\n",
    "#?     # hata oldugunda calisacak kod\n",
    "#!     .\n",
    "#!     .\n",
    "#!     ."
   ]
  }
 ],
 "metadata": {
  "kernelspec": {
   "display_name": "Python 3",
   "language": "python",
   "name": "python3"
  },
  "language_info": {
   "codemirror_mode": {
    "name": "ipython",
    "version": 3
   },
   "file_extension": ".py",
   "mimetype": "text/x-python",
   "name": "python",
   "nbconvert_exporter": "python",
   "pygments_lexer": "ipython3",
   "version": "3.12.0"
  }
 },
 "nbformat": 4,
 "nbformat_minor": 2
}
