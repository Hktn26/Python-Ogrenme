{
 "cells": [
  {
   "cell_type": "code",
   "execution_count": 1,
   "metadata": {},
   "outputs": [],
   "source": [
    "# \n",
    "# class <classIsmi>(): ##! class isimleri, genelin aksina buyuk harfle baslar(zorunluluk degil)\n",
    "#     <class attr>     ##! class attribute, olusturulanin aksine genel degerleri icerir.\n",
    "\n",
    "#     def __init__(self, <attr>): ##? init, instantiation yani orneklendirmenin kisaltmasidir.\n",
    "#         self.<instance attr> = <attr> ##? instance attribute'lar, olusturulan ornege ozgudur.\n",
    "#         ...\n",
    "\n",
    "#     def <method>(self, <params>): ##? methodlar class'a ozgu fonksiyonlardir.\n",
    "#         ...\n",
    "#         return ..."
   ]
  },
  {
   "cell_type": "markdown",
   "metadata": {},
   "source": [
    "Class Olusturma\\ Attribute'lar ve Method'lar"
   ]
  },
  {
   "cell_type": "code",
   "execution_count": 2,
   "metadata": {},
   "outputs": [],
   "source": [
    "class Ucus():\n",
    "    havayolu = 'THY'"
   ]
  },
  {
   "cell_type": "code",
   "execution_count": 3,
   "metadata": {},
   "outputs": [],
   "source": [
    "ucus1 = Ucus()"
   ]
  },
  {
   "cell_type": "code",
   "execution_count": 4,
   "metadata": {},
   "outputs": [
    {
     "data": {
      "text/plain": [
       "'THY'"
      ]
     },
     "execution_count": 4,
     "metadata": {},
     "output_type": "execute_result"
    }
   ],
   "source": [
    "ucus1.havayolu"
   ]
  },
  {
   "cell_type": "code",
   "execution_count": 1,
   "metadata": {},
   "outputs": [],
   "source": [
    "class Ucus():\n",
    "    havayolu = 'THY'\n",
    "    def __init__(self, kod, kalkis, varis, sure, kapasite, yolcu):\n",
    "        self.kod = kod\n",
    "        self.kalkis= kalkis\n",
    "        self.varis = varis\n",
    "        self.sure = sure\n",
    "        self.kapasite = kapasite\n",
    "        self.yolcu = yolcu"
   ]
  },
  {
   "cell_type": "code",
   "execution_count": 2,
   "metadata": {},
   "outputs": [
    {
     "ename": "TypeError",
     "evalue": "Ucus.__init__() missing 6 required positional arguments: 'kod', 'kalkis', 'varis', 'sure', 'kapasite', and 'yolcu'",
     "output_type": "error",
     "traceback": [
      "\u001b[1;31m---------------------------------------------------------------------------\u001b[0m",
      "\u001b[1;31mTypeError\u001b[0m                                 Traceback (most recent call last)",
      "Cell \u001b[1;32mIn[2], line 1\u001b[0m\n\u001b[1;32m----> 1\u001b[0m ucus2 \u001b[38;5;241m=\u001b[39m \u001b[43mUcus\u001b[49m\u001b[43m(\u001b[49m\u001b[43m)\u001b[49m\n",
      "\u001b[1;31mTypeError\u001b[0m: Ucus.__init__() missing 6 required positional arguments: 'kod', 'kalkis', 'varis', 'sure', 'kapasite', and 'yolcu'"
     ]
    }
   ],
   "source": [
    "ucus2 = Ucus()"
   ]
  },
  {
   "cell_type": "code",
   "execution_count": 6,
   "metadata": {},
   "outputs": [
    {
     "name": "stdout",
     "output_type": "stream",
     "text": [
      "TK123\n",
      "IST\n",
      "ANK\n",
      "60\n",
      "300\n",
      "50\n",
      "THY\n"
     ]
    }
   ],
   "source": [
    "ucus2 = Ucus('TK123', 'IST','ANK','60','300','50')\n",
    "print(ucus2.kod)\n",
    "print(ucus2.kalkis)\n",
    "print(ucus2.varis)\n",
    "print(ucus2.sure)\n",
    "print(ucus2.kapasite)\n",
    "print(ucus2.yolcu)\n",
    "print(ucus2.havayolu)"
   ]
  },
  {
   "cell_type": "code",
   "execution_count": 7,
   "metadata": {},
   "outputs": [
    {
     "name": "stdout",
     "output_type": "stream",
     "text": [
      "TK213\n",
      "BOD\n",
      "ANT\n",
      "40\n",
      "250\n",
      "250\n",
      "THY\n"
     ]
    }
   ],
   "source": [
    "ucus3 = Ucus('TK213', 'BOD','ANT','40','250','250')\n",
    "print(ucus3.kod)\n",
    "print(ucus3.kalkis)\n",
    "print(ucus3.varis)\n",
    "print(ucus3.sure)\n",
    "print(ucus3.kapasite)\n",
    "print(ucus3.yolcu)\n",
    "print(ucus3.havayolu)"
   ]
  },
  {
   "cell_type": "code",
   "execution_count": 10,
   "metadata": {},
   "outputs": [],
   "source": [
    "class Ucus():\n",
    "    havayolu = 'THY'\n",
    "    def __init__(self, kod, kalkis, varis, sure, kapasite, yolcu):\n",
    "        self.kod = kod\n",
    "        self.kalkis= kalkis\n",
    "        self.varis = varis\n",
    "        self.sure = sure\n",
    "        self.kapasite = kapasite\n",
    "        self.yolcu = yolcu\n",
    "    \n",
    "    def anons_yap(self):\n",
    "        return f'{self.kod} sefer sayili {self.kalkis}-{self.varis} ucusumuz {self.sure} dakika surecektir.'"
   ]
  },
  {
   "cell_type": "code",
   "execution_count": 11,
   "metadata": {},
   "outputs": [
    {
     "data": {
      "text/plain": [
       "'TK213 sefer sayili BOD-ANT ucusumuz 40 dakika surecektir.'"
      ]
     },
     "execution_count": 11,
     "metadata": {},
     "output_type": "execute_result"
    }
   ],
   "source": [
    "ucus3 = Ucus('TK213', 'BOD','ANT','40','250','250')\n",
    "ucus3.anons_yap()"
   ]
  },
  {
   "cell_type": "code",
   "execution_count": 70,
   "metadata": {},
   "outputs": [],
   "source": [
    "class Ucus():\n",
    "    havayolu = 'THY'\n",
    "    def __init__(self, kod, kalkis, varis, sure, kapasite, yolcu):\n",
    "        self.kod = kod\n",
    "        self.kalkis= kalkis\n",
    "        self.varis = varis\n",
    "        self.sure = sure\n",
    "        self.kapasite = kapasite\n",
    "        self.yolcu = yolcu\n",
    "    \n",
    "    def anons_yap(self):\n",
    "        return f'{self.kod} sefer sayili {self.kalkis}-{self.varis} ucusumuz {self.sure} dakika surecektir.'\n",
    "    \n",
    "    def koltuk_sayisi_guncelle(self):\n",
    "        return self.kapasite - self.yolcu\n",
    "    \n",
    "    def bilet_satis(self, bilet_adedi = 1):\n",
    "        if self.yolcu  + bilet_adedi <= self.kapasite:\n",
    "            self.yolcu += bilet_adedi \n",
    "            self.koltuk_sayisi_guncelle()\n",
    "            print(f'{bilet_adedi} adet bilet satilmistir, kalan koltuk sayisi {self.koltuk_sayisi_guncelle()}')\n",
    "        else:\n",
    "            print('Islem gerceklestirilemedi. Yetersiz koltuk sayisi...')\n",
    "    \n",
    "    def bilet_iptal(self, bilet_adedi = 1):\n",
    "        if self.yolcu >= bilet_adedi:\n",
    "            self.yolcu -= bilet_adedi\n",
    "            print(f'{bilet_adedi} adet bilet iptal edilmistir, guncel koltuk sayisi {self.koltuk_sayisi_guncelle()}')\n",
    "        else:\n",
    "            print('Islem gerceklestirilemedi. Yetersiz koltuk sayisi...')\n"
   ]
  },
  {
   "cell_type": "code",
   "execution_count": 71,
   "metadata": {},
   "outputs": [
    {
     "name": "stdout",
     "output_type": "stream",
     "text": [
      "5 adet bilet satilmistir, kalan koltuk sayisi 45\n"
     ]
    }
   ],
   "source": [
    "ucus3 = Ucus('TK213', 'BOD', 'ANT', 40, 250, 200)\n",
    "ucus3.koltuk_sayisi_guncelle()\n",
    "ucus3.bilet_satis(5)"
   ]
  },
  {
   "cell_type": "code",
   "execution_count": 72,
   "metadata": {},
   "outputs": [
    {
     "name": "stdout",
     "output_type": "stream",
     "text": [
      "Islem gerceklestirilemedi. Yetersiz koltuk sayisi...\n"
     ]
    }
   ],
   "source": [
    "ucus3.bilet_iptal(250)"
   ]
  },
  {
   "cell_type": "code",
   "execution_count": 73,
   "metadata": {},
   "outputs": [
    {
     "name": "stdout",
     "output_type": "stream",
     "text": [
      "35 adet bilet satilmistir, kalan koltuk sayisi 10\n"
     ]
    }
   ],
   "source": [
    "ucus3.bilet_satis(35)"
   ]
  },
  {
   "cell_type": "code",
   "execution_count": 74,
   "metadata": {},
   "outputs": [
    {
     "data": {
      "text/plain": [
       "10"
      ]
     },
     "execution_count": 74,
     "metadata": {},
     "output_type": "execute_result"
    }
   ],
   "source": [
    "ucus3.koltuk_sayisi_guncelle()"
   ]
  },
  {
   "cell_type": "markdown",
   "metadata": {},
   "source": [
    "Dunder Method'lar (Doubke Under Score)"
   ]
  },
  {
   "cell_type": "code",
   "execution_count": null,
   "metadata": {},
   "outputs": [],
   "source": []
  }
 ],
 "metadata": {
  "kernelspec": {
   "display_name": "Python 3",
   "language": "python",
   "name": "python3"
  },
  "language_info": {
   "codemirror_mode": {
    "name": "ipython",
    "version": 3
   },
   "file_extension": ".py",
   "mimetype": "text/x-python",
   "name": "python",
   "nbconvert_exporter": "python",
   "pygments_lexer": "ipython3",
   "version": "3.12.0"
  }
 },
 "nbformat": 4,
 "nbformat_minor": 2
}
