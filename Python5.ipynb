{
 "cells": [
  {
   "cell_type": "markdown",
   "metadata": {},
   "source": [
    "OS modülü"
   ]
  },
  {
   "cell_type": "markdown",
   "metadata": {},
   "source": [
    "Navigasyon ve Icerik Listeleme"
   ]
  },
  {
   "cell_type": "code",
   "execution_count": 6,
   "metadata": {},
   "outputs": [],
   "source": [
    "import os "
   ]
  },
  {
   "cell_type": "code",
   "execution_count": 2,
   "metadata": {},
   "outputs": [
    {
     "data": {
      "text/plain": [
       "'c:\\\\Users\\\\emirh\\\\OneDrive\\\\Desktop\\\\Python'"
      ]
     },
     "execution_count": 2,
     "metadata": {},
     "output_type": "execute_result"
    }
   ],
   "source": [
    "os.getcwd()"
   ]
  },
  {
   "cell_type": "code",
   "execution_count": 3,
   "metadata": {},
   "outputs": [
    {
     "data": {
      "text/plain": [
       "['.git',\n",
       " 'notlar.txt',\n",
       " 'Python1.ipynb',\n",
       " 'Python2.ipynb',\n",
       " 'Python3.ipynb',\n",
       " 'Python4.ipynb',\n",
       " 'Python5.ipynb',\n",
       " 'README.md']"
      ]
     },
     "execution_count": 3,
     "metadata": {},
     "output_type": "execute_result"
    }
   ],
   "source": [
    "os.listdir()"
   ]
  },
  {
   "cell_type": "code",
   "execution_count": 5,
   "metadata": {},
   "outputs": [
    {
     "data": {
      "text/plain": [
       "['All Users', 'Default', 'Default User', 'desktop.ini', 'emirh', 'Public']"
      ]
     },
     "execution_count": 5,
     "metadata": {},
     "output_type": "execute_result"
    }
   ],
   "source": [
    "os.listdir('c:\\\\Users')"
   ]
  },
  {
   "cell_type": "code",
   "execution_count": 6,
   "metadata": {},
   "outputs": [],
   "source": [
    "os.chdir('c:\\\\Users')"
   ]
  },
  {
   "cell_type": "code",
   "execution_count": 7,
   "metadata": {},
   "outputs": [
    {
     "data": {
      "text/plain": [
       "['All Users', 'Default', 'Default User', 'desktop.ini', 'emirh', 'Public']"
      ]
     },
     "execution_count": 7,
     "metadata": {},
     "output_type": "execute_result"
    }
   ],
   "source": [
    "os.listdir()"
   ]
  },
  {
   "cell_type": "code",
   "execution_count": 8,
   "metadata": {},
   "outputs": [],
   "source": [
    "os.chdir('c:\\\\Users\\\\emirh\\\\OneDrive\\\\Desktop\\\\Python')"
   ]
  },
  {
   "cell_type": "code",
   "execution_count": 9,
   "metadata": {},
   "outputs": [
    {
     "data": {
      "text/plain": [
       "['.git',\n",
       " 'notlar.txt',\n",
       " 'Python1.ipynb',\n",
       " 'Python2.ipynb',\n",
       " 'Python3.ipynb',\n",
       " 'Python4.ipynb',\n",
       " 'Python5.ipynb',\n",
       " 'README.md']"
      ]
     },
     "execution_count": 9,
     "metadata": {},
     "output_type": "execute_result"
    }
   ],
   "source": [
    "os.listdir()"
   ]
  },
  {
   "cell_type": "code",
   "execution_count": 10,
   "metadata": {},
   "outputs": [
    {
     "name": "stdout",
     "output_type": "stream",
     "text": [
      ".git\n",
      "notlar.txt\n",
      "Python1.ipynb\n",
      "Python2.ipynb\n",
      "Python3.ipynb\n",
      "Python4.ipynb\n",
      "Python5.ipynb\n",
      "README.md\n"
     ]
    }
   ],
   "source": [
    "dosyalar = os.listdir()\n",
    "for eleman in dosyalar:\n",
    "    print(eleman)"
   ]
  },
  {
   "cell_type": "markdown",
   "metadata": {},
   "source": [
    "Yeni Eleman Olusturma, Isim Degistirme ve Silme"
   ]
  },
  {
   "cell_type": "code",
   "execution_count": 11,
   "metadata": {},
   "outputs": [],
   "source": [
    "os.mkdir('c:\\\\Users\\\\emirh\\\\OneDrive\\\\Desktop\\\\Python\\\\deneme_klasoru')"
   ]
  },
  {
   "cell_type": "code",
   "execution_count": 12,
   "metadata": {},
   "outputs": [
    {
     "data": {
      "text/plain": [
       "['.git',\n",
       " 'deneme_klasoru',\n",
       " 'notlar.txt',\n",
       " 'Python1.ipynb',\n",
       " 'Python2.ipynb',\n",
       " 'Python3.ipynb',\n",
       " 'Python4.ipynb',\n",
       " 'Python5.ipynb',\n",
       " 'README.md']"
      ]
     },
     "execution_count": 12,
     "metadata": {},
     "output_type": "execute_result"
    }
   ],
   "source": [
    "os.listdir()"
   ]
  },
  {
   "cell_type": "code",
   "execution_count": 13,
   "metadata": {},
   "outputs": [],
   "source": [
    "os.rmdir('c:\\\\Users\\\\emirh\\\\OneDrive\\\\Desktop\\\\Python\\\\deneme_klasoru')"
   ]
  },
  {
   "cell_type": "code",
   "execution_count": 14,
   "metadata": {},
   "outputs": [
    {
     "data": {
      "text/plain": [
       "['.git',\n",
       " 'notlar.txt',\n",
       " 'Python1.ipynb',\n",
       " 'Python2.ipynb',\n",
       " 'Python3.ipynb',\n",
       " 'Python4.ipynb',\n",
       " 'Python5.ipynb',\n",
       " 'README.md']"
      ]
     },
     "execution_count": 14,
     "metadata": {},
     "output_type": "execute_result"
    }
   ],
   "source": [
    "os.listdir()"
   ]
  },
  {
   "cell_type": "code",
   "execution_count": 13,
   "metadata": {},
   "outputs": [],
   "source": [
    "###############################################\n",
    "##! os.O_RDONLY   -Read Only      - Sadece Oku\n",
    "##! os.O_WRONLY   -Write Only     - Sadece Yaz\n",
    "##! os.O_RDWR     -Read and Write - Oku ve Yaz\n",
    "##! os.O_CREAT    -Create         - Olustur\n",
    "\n",
    "yeni_dosya = os.open('Yeni_Dosya.txt', os.O_RDWR|os.O_CREAT)\n",
    "os.write(yeni_dosya, 'Merhaba Dünya!'.encode())\n",
    "os.close(yeni_dosya)"
   ]
  },
  {
   "cell_type": "code",
   "execution_count": 15,
   "metadata": {},
   "outputs": [
    {
     "name": "stdout",
     "output_type": "stream",
     "text": [
      "Merhaba Dünya!\n"
     ]
    }
   ],
   "source": [
    "yeni_dosya = os.open('yeni_dosya.txt', os.O_RDONLY)\n",
    "uzunluk = os.stat(yeni_dosya).st_size\n",
    "icerik = os.read(yeni_dosya, uzunluk)\n",
    "print(icerik.decode())\n",
    "# print(uzunluk)\n",
    "os.close(yeni_dosya)            "
   ]
  },
  {
   "cell_type": "code",
   "execution_count": 16,
   "metadata": {},
   "outputs": [],
   "source": [
    "os.unlink('Yeni_Dosya.txt')"
   ]
  },
  {
   "cell_type": "code",
   "execution_count": 17,
   "metadata": {},
   "outputs": [],
   "source": [
    "os.mkdir('deneme_yeni')"
   ]
  },
  {
   "cell_type": "code",
   "execution_count": 18,
   "metadata": {},
   "outputs": [
    {
     "data": {
      "text/plain": [
       "['.git',\n",
       " 'deneme_yeni',\n",
       " 'notlar.txt',\n",
       " 'Python1.ipynb',\n",
       " 'Python2.ipynb',\n",
       " 'Python3.ipynb',\n",
       " 'Python4.ipynb',\n",
       " 'Python5.ipynb',\n",
       " 'README.md']"
      ]
     },
     "execution_count": 18,
     "metadata": {},
     "output_type": "execute_result"
    }
   ],
   "source": [
    "os.listdir()"
   ]
  },
  {
   "cell_type": "code",
   "execution_count": 19,
   "metadata": {},
   "outputs": [],
   "source": [
    "os.rename('deneme_yeni', 'deneme_eski')"
   ]
  },
  {
   "cell_type": "code",
   "execution_count": 20,
   "metadata": {},
   "outputs": [
    {
     "data": {
      "text/plain": [
       "['.git',\n",
       " 'deneme_eski',\n",
       " 'notlar.txt',\n",
       " 'Python1.ipynb',\n",
       " 'Python2.ipynb',\n",
       " 'Python3.ipynb',\n",
       " 'Python4.ipynb',\n",
       " 'Python5.ipynb',\n",
       " 'README.md']"
      ]
     },
     "execution_count": 20,
     "metadata": {},
     "output_type": "execute_result"
    }
   ],
   "source": [
    "os.listdir()"
   ]
  },
  {
   "cell_type": "code",
   "execution_count": null,
   "metadata": {},
   "outputs": [],
   "source": []
  }
 ],
 "metadata": {
  "kernelspec": {
   "display_name": "Python 3",
   "language": "python",
   "name": "python3"
  },
  "language_info": {
   "codemirror_mode": {
    "name": "ipython",
    "version": 3
   },
   "file_extension": ".py",
   "mimetype": "text/x-python",
   "name": "python",
   "nbconvert_exporter": "python",
   "pygments_lexer": "ipython3",
   "version": "3.12.0"
  }
 },
 "nbformat": 4,
 "nbformat_minor": 2
}
