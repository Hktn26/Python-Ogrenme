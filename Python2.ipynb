{
 "cells": [
  {
   "cell_type": "markdown",
   "metadata": {},
   "source": [
    "If Sorgulari"
   ]
  },
  {
   "cell_type": "code",
   "execution_count": 2,
   "metadata": {},
   "outputs": [],
   "source": [
    "#######################################################\n",
    "#?  Kullanim Senaryosu-1:\n",
    "#! if <kosul saglaniyorsa>:\n",
    "#     <burda yazilani yap>"
   ]
  },
  {
   "cell_type": "code",
   "execution_count": 4,
   "metadata": {},
   "outputs": [
    {
     "name": "stdout",
     "output_type": "stream",
     "text": [
      "Hava yagisli.\n"
     ]
    }
   ],
   "source": [
    "hava_durumu = 'yagisli'\n",
    "if hava_durumu == 'yagisli':\n",
    "    print(\"Hava yagisli.\")"
   ]
  },
  {
   "cell_type": "code",
   "execution_count": 5,
   "metadata": {},
   "outputs": [],
   "source": [
    "#######################################################\n",
    "#? Kullanim Senaryosu -2-\n",
    "#! if <kosul saglaniyorsa>:\n",
    "#     <burda yazilani yap>\n",
    "#! else:\n",
    "#     <burda yazilani yap>"
   ]
  },
  {
   "cell_type": "code",
   "execution_count": 7,
   "metadata": {},
   "outputs": [
    {
     "name": "stdout",
     "output_type": "stream",
     "text": [
      "Sorun yok.\n"
     ]
    }
   ],
   "source": [
    "hava_durumu = 'karli'\n",
    "if hava_durumu == 'yagisli':\n",
    "    print(\"Hava yagisli.\")\n",
    "else:\n",
    "    print('Sorun yok.')"
   ]
  },
  {
   "cell_type": "code",
   "execution_count": 8,
   "metadata": {},
   "outputs": [],
   "source": [
    "#######################################################\n",
    "#? Kullanim Senaryosu -2-\n",
    "#! if <kosul saglaniyorsa>:\n",
    "#     <burda yazilani yap>\n",
    "#! elif <kosul saglaniyorsa>:\n",
    "#     <burda yazilani yap>\n",
    "#! else:\n",
    "#     <burda yazilani yap>"
   ]
  },
  {
   "cell_type": "code",
   "execution_count": 9,
   "metadata": {},
   "outputs": [
    {
     "name": "stdout",
     "output_type": "stream",
     "text": [
      "Hava Karli\n"
     ]
    }
   ],
   "source": [
    "hava_durumu = 'karli'\n",
    "if hava_durumu == 'yagisli':\n",
    "    print(\"Hava Yagisli.\")\n",
    "elif hava_durumu == 'karli':\n",
    "    print('Hava Karli')\n",
    "else:\n",
    "    print('Sorun yok.')"
   ]
  },
  {
   "cell_type": "code",
   "execution_count": 10,
   "metadata": {},
   "outputs": [
    {
     "name": "stdout",
     "output_type": "stream",
     "text": [
      "Selam\n"
     ]
    }
   ],
   "source": [
    "yas = 35\n",
    "\n",
    "if yas > 18:\n",
    "    print('Selam')\n",
    "elif yas == 18:\n",
    "    print('Ucu ucuna kurtardin')\n",
    "else:\n",
    "    print(\"Cok gencsin\")"
   ]
  },
  {
   "cell_type": "code",
   "execution_count": 14,
   "metadata": {},
   "outputs": [
    {
     "name": "stdout",
     "output_type": "stream",
     "text": [
      "liste ekledim\n",
      "Guncel Liste ['a', 'b', 'c', 'd']\n"
     ]
    }
   ],
   "source": [
    "liste = ['a', 'b', 'c']\n",
    "\n",
    "hedef_harf = 'd'\n",
    "if hedef_harf in liste:\n",
    "    print('Buldum')\n",
    "else:\n",
    "    liste.append(hedef_harf)\n",
    "    print('liste ekledim')\n",
    "    print(f'Guncel Liste {liste}')"
   ]
  },
  {
   "cell_type": "code",
   "execution_count": 15,
   "metadata": {},
   "outputs": [
    {
     "name": "stdout",
     "output_type": "stream",
     "text": [
      "Buldum ama ilk harf değil\n"
     ]
    }
   ],
   "source": [
    "if (hedef_harf in liste) and (hedef_harf == liste[0]):\n",
    "    print('Buldum ve ilk harf konumunda')\n",
    "elif hedef_harf in liste:\n",
    "    print('Buldum ama ilk harf değil')\n",
    "else:\n",
    "    liste.append(hedef_harf)\n",
    "    print('liste ekledim')\n",
    "    print(f'Guncel Liste {liste}')"
   ]
  },
  {
   "cell_type": "markdown",
   "metadata": {},
   "source": [
    "for Dönguleri"
   ]
  },
  {
   "cell_type": "code",
   "execution_count": 1,
   "metadata": {},
   "outputs": [],
   "source": [
    "# Kullanim yapisi\n",
    "#? LOOP\n",
    "#! for <degisken> in <iterable>:\n",
    "#!     <buraya yazilani yap>"
   ]
  },
  {
   "cell_type": "code",
   "execution_count": 2,
   "metadata": {},
   "outputs": [],
   "source": [
    "yorum_birakanlar = [\"Ismail Aydemir\",\"Uygar Aydin\",\"Naz Yagcioglu\",\"Ferhat Ibrik\",\"Ulas Acil\",\"Bilal Kurucay\"]"
   ]
  },
  {
   "cell_type": "code",
   "execution_count": 3,
   "metadata": {},
   "outputs": [
    {
     "name": "stdout",
     "output_type": "stream",
     "text": [
      "Ismail Aydemir\n",
      "Uygar Aydin\n",
      "Naz Yagcioglu\n",
      "Ferhat Ibrik\n",
      "Ulas Acil\n",
      "Bilal Kurucay\n"
     ]
    }
   ],
   "source": [
    "for kullanici in yorum_birakanlar:\n",
    "    print(kullanici)"
   ]
  },
  {
   "cell_type": "code",
   "execution_count": 6,
   "metadata": {},
   "outputs": [
    {
     "name": "stdout",
     "output_type": "stream",
     "text": [
      "1 . Ismail Aydemir\n",
      "2 . Uygar Aydin\n",
      "3 . Naz Yagcioglu\n",
      "4 . Ferhat Ibrik\n",
      "5 . Ulas Acil\n",
      "6 . Bilal Kurucay\n"
     ]
    }
   ],
   "source": [
    "kullanici_sayisi = 0\n",
    "for kullanici in yorum_birakanlar:\n",
    "    kullanici_sayisi = kullanici_sayisi + 1\n",
    "    print(kullanici_sayisi,\".\", kullanici)"
   ]
  },
  {
   "cell_type": "code",
   "execution_count": 8,
   "metadata": {},
   "outputs": [
    {
     "data": {
      "text/plain": [
       "['Ismail', 'Aydemir']"
      ]
     },
     "execution_count": 8,
     "metadata": {},
     "output_type": "execute_result"
    }
   ],
   "source": [
    "yorum_birakanlar[0].split()"
   ]
  },
  {
   "cell_type": "code",
   "execution_count": 9,
   "metadata": {},
   "outputs": [
    {
     "name": "stdout",
     "output_type": "stream",
     "text": [
      "Ismail Aydemir\n"
     ]
    }
   ],
   "source": [
    "ad = yorum_birakanlar[0].split()[0]\n",
    "soyad = yorum_birakanlar[0].split()[1]\n",
    "print(ad, soyad)"
   ]
  },
  {
   "cell_type": "code",
   "execution_count": 17,
   "metadata": {},
   "outputs": [
    {
     "name": "stdout",
     "output_type": "stream",
     "text": [
      "1. Kullanicinin Adi Ismail ve Soyadi Aydemir.\n",
      "2. Kullanicinin Adi Uygar ve Soyadi Aydin.\n",
      "3. Kullanicinin Adi Naz ve Soyadi Yagcioglu.\n",
      "4. Kullanicinin Adi Ferhat ve Soyadi Ibrik.\n",
      "5. Kullanicinin Adi Ulas ve Soyadi Acil.\n",
      "6. Kullanicinin Adi Bilal ve Soyadi Kurucay.\n"
     ]
    }
   ],
   "source": [
    "kullanici_sayisi = 0\n",
    "for kullanici in yorum_birakanlar:\n",
    "    kullanici_sayisi = kullanici_sayisi + 1\n",
    "    ad = kullanici.split()[0]\n",
    "    soyad = kullanici.split()[1]\n",
    "    print(f'{kullanici_sayisi}. Kullanicinin Adi {ad} ve Soyadi {soyad}.')"
   ]
  },
  {
   "cell_type": "code",
   "execution_count": 20,
   "metadata": {},
   "outputs": [
    {
     "name": "stdout",
     "output_type": "stream",
     "text": [
      "1. Moderator Adi Ismail ve Soyadi Aydemir.\n",
      "2. Moderator Adi Uygar ve Soyadi Aydin.\n",
      "3. Moderator Adi Naz ve Soyadi Yagcioglu.\n",
      "1. Moderator Adi Ferhat ve Soyadi Ibrik.\n",
      "4. Moderator Adi Ulas ve Soyadi Acil.\n",
      "5. Moderator Adi Bilal ve Soyadi Kurucay.\n"
     ]
    }
   ],
   "source": [
    "moderator = \"Ferhat Ibrik\"\n",
    "\n",
    "kullanici_sayisi = 0\n",
    "moderator_sayisi = 0\n",
    "\n",
    "for kullanici in yorum_birakanlar:\n",
    "    ad = kullanici.split()[0]\n",
    "    soyad = kullanici.split()[1]\n",
    "    if (kullanici == moderator):\n",
    "        moderator_sayisi += 1\n",
    "        print(f'{moderator_sayisi}. Moderator Adi {ad} ve Soyadi {soyad}.')\n",
    "    else:\n",
    "        kullanici_sayisi += 1\n",
    "        print(f'{kullanici_sayisi}. Moderator Adi {ad} ve Soyadi {soyad}.')"
   ]
  },
  {
   "cell_type": "markdown",
   "metadata": {},
   "source": [
    "Diger Iterable Objelerde for Donguleri"
   ]
  },
  {
   "cell_type": "code",
   "execution_count": 21,
   "metadata": {},
   "outputs": [
    {
     "name": "stdout",
     "output_type": "stream",
     "text": [
      "1\n",
      "3\n",
      "5\n",
      "7\n"
     ]
    }
   ],
   "source": [
    "tup1 = (1, 3, 5, 7)\n",
    "\n",
    "for sayi in tup1:\n",
    "    print(sayi)"
   ]
  },
  {
   "cell_type": "code",
   "execution_count": 27,
   "metadata": {},
   "outputs": [
    {
     "name": "stdout",
     "output_type": "stream",
     "text": [
      "1\n",
      "3\n",
      "5\n",
      "a\n"
     ]
    }
   ],
   "source": [
    "liste = [[1, 2], [3, 4], [5, 6], ['a', 'b']]\n",
    "\n",
    "for x, y in liste:\n",
    "    print(x)"
   ]
  },
  {
   "cell_type": "code",
   "execution_count": 29,
   "metadata": {},
   "outputs": [
    {
     "name": "stdout",
     "output_type": "stream",
     "text": [
      "2\n",
      "12\n",
      "30\n"
     ]
    }
   ],
   "source": [
    "liste = [[1, 2], [3, 4], [5, 6]]\n",
    "\n",
    "for x, y in liste:\n",
    "    print(x*y)"
   ]
  },
  {
   "cell_type": "code",
   "execution_count": 39,
   "metadata": {},
   "outputs": [
    {
     "name": "stdout",
     "output_type": "stream",
     "text": [
      "dict_items([('ad', 'Naz'), ('soyad', 'Yagcioglu')])\n",
      "dict_keys(['ad', 'soyad'])\n",
      "dict_values(['Naz', 'Yagcioglu'])\n"
     ]
    }
   ],
   "source": [
    "kullanici1 = {\n",
    "    'ad': 'Naz',\n",
    "    'soyad': 'Yagcioglu'\n",
    "} \n",
    "print(kullanici1.items())\n",
    "print(kullanici1.keys())\n",
    "print(kullanici1.values())"
   ]
  },
  {
   "cell_type": "code",
   "execution_count": 40,
   "metadata": {},
   "outputs": [
    {
     "name": "stdout",
     "output_type": "stream",
     "text": [
      "Key: ad \t Value: Naz\n",
      "Key: soyad \t Value: Yagcioglu\n",
      "------------------------------\n",
      "Key: ad\n",
      "Key: soyad\n",
      "------------------------------\n",
      "Values: Naz\n",
      "Values: Yagcioglu\n"
     ]
    }
   ],
   "source": [
    "for k, v in kullanici1.items():\n",
    "    print(f'Key: {k} \\t Value: {v}')\n",
    "print('------------------------------')\n",
    "\n",
    "for k in kullanici1.keys():\n",
    "    print(f'Key: {k}')\n",
    "print('------------------------------')\n",
    "\n",
    "for v in kullanici1.values():\n",
    "    print(f'Values: {v}')\n"
   ]
  },
  {
   "cell_type": "code",
   "execution_count": null,
   "metadata": {},
   "outputs": [],
   "source": []
  }
 ],
 "metadata": {
  "kernelspec": {
   "display_name": "Python 3",
   "language": "python",
   "name": "python3"
  },
  "language_info": {
   "codemirror_mode": {
    "name": "ipython",
    "version": 3
   },
   "file_extension": ".py",
   "mimetype": "text/x-python",
   "name": "python",
   "nbconvert_exporter": "python",
   "pygments_lexer": "ipython3",
   "version": "3.12.0"
  }
 },
 "nbformat": 4,
 "nbformat_minor": 2
}
