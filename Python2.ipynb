{
 "cells": [
  {
   "cell_type": "markdown",
   "metadata": {},
   "source": [
    "If Sorgulari\n"
   ]
  },
  {
   "cell_type": "code",
   "execution_count": 2,
   "metadata": {},
   "outputs": [],
   "source": [
    "#######################################################\n",
    "# ?  Kullanim Senaryosu-1:\n",
    "#! if <kosul saglaniyorsa>:\n",
    "#     <burda yazilani yap>"
   ]
  },
  {
   "cell_type": "code",
   "execution_count": 4,
   "metadata": {},
   "outputs": [
    {
     "name": "stdout",
     "output_type": "stream",
     "text": [
      "Hava yagisli.\n"
     ]
    }
   ],
   "source": [
    "hava_durumu = 'yagisli'\n",
    "if hava_durumu == 'yagisli':\n",
    "    print(\"Hava yagisli.\")"
   ]
  },
  {
   "cell_type": "code",
   "execution_count": 5,
   "metadata": {},
   "outputs": [],
   "source": [
    "#######################################################\n",
    "# ? Kullanim Senaryosu -2-\n",
    "#! if <kosul saglaniyorsa>:\n",
    "#     <burda yazilani yap>\n",
    "#! else:\n",
    "#     <burda yazilani yap>"
   ]
  },
  {
   "cell_type": "code",
   "execution_count": 7,
   "metadata": {},
   "outputs": [
    {
     "name": "stdout",
     "output_type": "stream",
     "text": [
      "Sorun yok.\n"
     ]
    }
   ],
   "source": [
    "hava_durumu = 'karli'\n",
    "if hava_durumu == 'yagisli':\n",
    "    print(\"Hava yagisli.\")\n",
    "else:\n",
    "    print('Sorun yok.')"
   ]
  },
  {
   "cell_type": "code",
   "execution_count": 8,
   "metadata": {},
   "outputs": [],
   "source": [
    "#######################################################\n",
    "# ? Kullanim Senaryosu -2-\n",
    "#! if <kosul saglaniyorsa>:\n",
    "#     <burda yazilani yap>\n",
    "#! elif <kosul saglaniyorsa>:\n",
    "#     <burda yazilani yap>\n",
    "#! else:\n",
    "#     <burda yazilani yap>"
   ]
  },
  {
   "cell_type": "code",
   "execution_count": 9,
   "metadata": {},
   "outputs": [
    {
     "name": "stdout",
     "output_type": "stream",
     "text": [
      "Hava Karli\n"
     ]
    }
   ],
   "source": [
    "hava_durumu = 'karli'\n",
    "if hava_durumu == 'yagisli':\n",
    "    print(\"Hava Yagisli.\")\n",
    "elif hava_durumu == 'karli':\n",
    "    print('Hava Karli')\n",
    "else:\n",
    "    print('Sorun yok.')"
   ]
  },
  {
   "cell_type": "code",
   "execution_count": 10,
   "metadata": {},
   "outputs": [
    {
     "name": "stdout",
     "output_type": "stream",
     "text": [
      "Selam\n"
     ]
    }
   ],
   "source": [
    "yas = 35\n",
    "\n",
    "if yas > 18:\n",
    "    print('Selam')\n",
    "elif yas == 18:\n",
    "    print('Ucu ucuna kurtardin')\n",
    "else:\n",
    "    print(\"Cok gencsin\")"
   ]
  },
  {
   "cell_type": "code",
   "execution_count": 14,
   "metadata": {},
   "outputs": [
    {
     "name": "stdout",
     "output_type": "stream",
     "text": [
      "liste ekledim\n",
      "Guncel Liste ['a', 'b', 'c', 'd']\n"
     ]
    }
   ],
   "source": [
    "liste = ['a', 'b', 'c']\n",
    "\n",
    "hedef_harf = 'd'\n",
    "if hedef_harf in liste:\n",
    "    print('Buldum')\n",
    "else:\n",
    "    liste.append(hedef_harf)\n",
    "    print('liste ekledim')\n",
    "    print(f'Guncel Liste {liste}')"
   ]
  },
  {
   "cell_type": "code",
   "execution_count": 15,
   "metadata": {},
   "outputs": [
    {
     "name": "stdout",
     "output_type": "stream",
     "text": [
      "Buldum ama ilk harf değil\n"
     ]
    }
   ],
   "source": [
    "if (hedef_harf in liste) and (hedef_harf == liste[0]):\n",
    "    print('Buldum ve ilk harf konumunda')\n",
    "elif hedef_harf in liste:\n",
    "    print('Buldum ama ilk harf değil')\n",
    "else:\n",
    "    liste.append(hedef_harf)\n",
    "    print('liste ekledim')\n",
    "    print(f'Guncel Liste {liste}')"
   ]
  },
  {
   "cell_type": "markdown",
   "metadata": {},
   "source": [
    "for Dönguleri\n"
   ]
  },
  {
   "cell_type": "code",
   "execution_count": 1,
   "metadata": {},
   "outputs": [],
   "source": [
    "# Kullanim yapisi\n",
    "# ? LOOP\n",
    "#! for <degisken> in <iterable>:\n",
    "#!     <buraya yazilani yap>"
   ]
  },
  {
   "cell_type": "code",
   "execution_count": 2,
   "metadata": {},
   "outputs": [],
   "source": [
    "yorum_birakanlar = [\"Ismail Aydemir\", \"Uygar Aydin\",\n",
    "                    \"Naz Yagcioglu\", \"Ferhat Ibrik\", \"Ulas Acil\", \"Bilal Kurucay\"]"
   ]
  },
  {
   "cell_type": "code",
   "execution_count": 3,
   "metadata": {},
   "outputs": [
    {
     "name": "stdout",
     "output_type": "stream",
     "text": [
      "Ismail Aydemir\n",
      "Uygar Aydin\n",
      "Naz Yagcioglu\n",
      "Ferhat Ibrik\n",
      "Ulas Acil\n",
      "Bilal Kurucay\n"
     ]
    }
   ],
   "source": [
    "for kullanici in yorum_birakanlar:\n",
    "    print(kullanici)"
   ]
  },
  {
   "cell_type": "code",
   "execution_count": 6,
   "metadata": {},
   "outputs": [
    {
     "name": "stdout",
     "output_type": "stream",
     "text": [
      "1 . Ismail Aydemir\n",
      "2 . Uygar Aydin\n",
      "3 . Naz Yagcioglu\n",
      "4 . Ferhat Ibrik\n",
      "5 . Ulas Acil\n",
      "6 . Bilal Kurucay\n"
     ]
    }
   ],
   "source": [
    "kullanici_sayisi = 0\n",
    "for kullanici in yorum_birakanlar:\n",
    "    kullanici_sayisi = kullanici_sayisi + 1\n",
    "    print(kullanici_sayisi, \".\", kullanici)"
   ]
  },
  {
   "cell_type": "code",
   "execution_count": 8,
   "metadata": {},
   "outputs": [
    {
     "data": {
      "text/plain": [
       "['Ismail', 'Aydemir']"
      ]
     },
     "execution_count": 8,
     "metadata": {},
     "output_type": "execute_result"
    }
   ],
   "source": [
    "yorum_birakanlar[0].split()"
   ]
  },
  {
   "cell_type": "code",
   "execution_count": 9,
   "metadata": {},
   "outputs": [
    {
     "name": "stdout",
     "output_type": "stream",
     "text": [
      "Ismail Aydemir\n"
     ]
    }
   ],
   "source": [
    "ad = yorum_birakanlar[0].split()[0]\n",
    "soyad = yorum_birakanlar[0].split()[1]\n",
    "print(ad, soyad)"
   ]
  },
  {
   "cell_type": "code",
   "execution_count": 17,
   "metadata": {},
   "outputs": [
    {
     "name": "stdout",
     "output_type": "stream",
     "text": [
      "1. Kullanicinin Adi Ismail ve Soyadi Aydemir.\n",
      "2. Kullanicinin Adi Uygar ve Soyadi Aydin.\n",
      "3. Kullanicinin Adi Naz ve Soyadi Yagcioglu.\n",
      "4. Kullanicinin Adi Ferhat ve Soyadi Ibrik.\n",
      "5. Kullanicinin Adi Ulas ve Soyadi Acil.\n",
      "6. Kullanicinin Adi Bilal ve Soyadi Kurucay.\n"
     ]
    }
   ],
   "source": [
    "kullanici_sayisi = 0\n",
    "for kullanici in yorum_birakanlar:\n",
    "    kullanici_sayisi = kullanici_sayisi + 1\n",
    "    ad = kullanici.split()[0]\n",
    "    soyad = kullanici.split()[1]\n",
    "    print(f'{kullanici_sayisi}. Kullanicinin Adi {ad} ve Soyadi {soyad}.')"
   ]
  },
  {
   "cell_type": "code",
   "execution_count": 20,
   "metadata": {},
   "outputs": [
    {
     "name": "stdout",
     "output_type": "stream",
     "text": [
      "1. Moderator Adi Ismail ve Soyadi Aydemir.\n",
      "2. Moderator Adi Uygar ve Soyadi Aydin.\n",
      "3. Moderator Adi Naz ve Soyadi Yagcioglu.\n",
      "1. Moderator Adi Ferhat ve Soyadi Ibrik.\n",
      "4. Moderator Adi Ulas ve Soyadi Acil.\n",
      "5. Moderator Adi Bilal ve Soyadi Kurucay.\n"
     ]
    }
   ],
   "source": [
    "moderator = \"Ferhat Ibrik\"\n",
    "\n",
    "kullanici_sayisi = 0\n",
    "moderator_sayisi = 0\n",
    "\n",
    "for kullanici in yorum_birakanlar:\n",
    "    ad = kullanici.split()[0]\n",
    "    soyad = kullanici.split()[1]\n",
    "    if (kullanici == moderator):\n",
    "        moderator_sayisi += 1\n",
    "        print(f'{moderator_sayisi}. Moderator Adi {ad} ve Soyadi {soyad}.')\n",
    "    else:\n",
    "        kullanici_sayisi += 1\n",
    "        print(f'{kullanici_sayisi}. Moderator Adi {ad} ve Soyadi {soyad}.')"
   ]
  },
  {
   "cell_type": "markdown",
   "metadata": {},
   "source": [
    "Diger Iterable Objelerde for Donguleri\n"
   ]
  },
  {
   "cell_type": "code",
   "execution_count": 21,
   "metadata": {},
   "outputs": [
    {
     "name": "stdout",
     "output_type": "stream",
     "text": [
      "1\n",
      "3\n",
      "5\n",
      "7\n"
     ]
    }
   ],
   "source": [
    "tup1 = (1, 3, 5, 7)\n",
    "\n",
    "for sayi in tup1:\n",
    "    print(sayi)"
   ]
  },
  {
   "cell_type": "code",
   "execution_count": 27,
   "metadata": {},
   "outputs": [
    {
     "name": "stdout",
     "output_type": "stream",
     "text": [
      "1\n",
      "3\n",
      "5\n",
      "a\n"
     ]
    }
   ],
   "source": [
    "liste = [[1, 2], [3, 4], [5, 6], ['a', 'b']]\n",
    "\n",
    "for x, y in liste:\n",
    "    print(x)"
   ]
  },
  {
   "cell_type": "code",
   "execution_count": 29,
   "metadata": {},
   "outputs": [
    {
     "name": "stdout",
     "output_type": "stream",
     "text": [
      "2\n",
      "12\n",
      "30\n"
     ]
    }
   ],
   "source": [
    "liste = [[1, 2], [3, 4], [5, 6]]\n",
    "\n",
    "for x, y in liste:\n",
    "    print(x*y)"
   ]
  },
  {
   "cell_type": "code",
   "execution_count": 39,
   "metadata": {},
   "outputs": [
    {
     "name": "stdout",
     "output_type": "stream",
     "text": [
      "dict_items([('ad', 'Naz'), ('soyad', 'Yagcioglu')])\n",
      "dict_keys(['ad', 'soyad'])\n",
      "dict_values(['Naz', 'Yagcioglu'])\n"
     ]
    }
   ],
   "source": [
    "kullanici1 = {\n",
    "    'ad': 'Naz',\n",
    "    'soyad': 'Yagcioglu'\n",
    "}\n",
    "print(kullanici1.items())\n",
    "print(kullanici1.keys())\n",
    "print(kullanici1.values())"
   ]
  },
  {
   "cell_type": "code",
   "execution_count": 40,
   "metadata": {},
   "outputs": [
    {
     "name": "stdout",
     "output_type": "stream",
     "text": [
      "Key: ad \t Value: Naz\n",
      "Key: soyad \t Value: Yagcioglu\n",
      "------------------------------\n",
      "Key: ad\n",
      "Key: soyad\n",
      "------------------------------\n",
      "Values: Naz\n",
      "Values: Yagcioglu\n"
     ]
    }
   ],
   "source": [
    "for k, v in kullanici1.items():\n",
    "    print(f'Key: {k} \\t Value: {v}')\n",
    "print('------------------------------')\n",
    "\n",
    "for k in kullanici1.keys():\n",
    "    print(f'Key: {k}')\n",
    "print('------------------------------')\n",
    "\n",
    "for v in kullanici1.values():\n",
    "    print(f'Values: {v}')"
   ]
  },
  {
   "cell_type": "markdown",
   "metadata": {},
   "source": [
    "While Donguleri\n"
   ]
  },
  {
   "cell_type": "code",
   "execution_count": 2,
   "metadata": {},
   "outputs": [],
   "source": [
    "# Kullanim Yapisi\n",
    "#! while <sart dogruyken>:\n",
    "#!      <burda yazilani yap>"
   ]
  },
  {
   "cell_type": "code",
   "execution_count": 2,
   "metadata": {},
   "outputs": [
    {
     "name": "stdout",
     "output_type": "stream",
     "text": [
      "0 degeri 10'dan  kucuktur.\n",
      "1 degeri 10'dan  kucuktur.\n",
      "2 degeri 10'dan  kucuktur.\n",
      "3 degeri 10'dan  kucuktur.\n",
      "4 degeri 10'dan  kucuktur.\n",
      "5 degeri 10'dan  kucuktur.\n",
      "6 degeri 10'dan  kucuktur.\n",
      "7 degeri 10'dan  kucuktur.\n",
      "8 degeri 10'dan  kucuktur.\n",
      "9 degeri 10'dan  kucuktur.\n"
     ]
    }
   ],
   "source": [
    "x = 0\n",
    "\n",
    "while x < 10:\n",
    "    print(f'{x} degeri 10\\'dan  kucuktur.')\n",
    "    x += 1"
   ]
  },
  {
   "cell_type": "code",
   "execution_count": 3,
   "metadata": {},
   "outputs": [],
   "source": [
    "# Kullanim Yapisi\n",
    "#! while <sart dogruyken>:\n",
    "#!     <burda yazilani yap>\n",
    "#! else:\n",
    "#!     <burda yazilani yap>"
   ]
  },
  {
   "cell_type": "code",
   "execution_count": 3,
   "metadata": {},
   "outputs": [
    {
     "name": "stdout",
     "output_type": "stream",
     "text": [
      "0 degeri 10'dan  kucuktur.\n",
      "1 degeri 10'dan  kucuktur.\n",
      "2 degeri 10'dan  kucuktur.\n",
      "3 degeri 10'dan  kucuktur.\n",
      "4 degeri 10'dan  kucuktur.\n",
      "5 degeri 10'dan  kucuktur.\n",
      "6 degeri 10'dan  kucuktur.\n",
      "7 degeri 10'dan  kucuktur.\n",
      "8 degeri 10'dan  kucuktur.\n",
      "9 degeri 10'dan  kucuktur.\n",
      "10 degeri 10'dan  kucuk degildir.\n"
     ]
    }
   ],
   "source": [
    "x = 0\n",
    "\n",
    "while x < 10:\n",
    "    print(f'{x} degeri 10\\'dan  kucuktur.')\n",
    "    x += 1\n",
    "else:\n",
    "    print(f'{x} degeri 10\\'dan  kucuk degildir.')"
   ]
  },
  {
   "cell_type": "code",
   "execution_count": 12,
   "metadata": {},
   "outputs": [
    {
     "name": "stdout",
     "output_type": "stream",
     "text": [
      "Sonuc: 720\n"
     ]
    }
   ],
   "source": [
    "\n",
    "# ? Faktoriyel\n",
    "# 3! = 3 * 2 * 1 = 6\n",
    "# 6! = 6 * 5 * 4 * 3 * 2 * 1 = 720\n",
    "\n",
    "sayi = 6\n",
    "sonuc = 1\n",
    "\n",
    "while sayi > 0:\n",
    "    sonuc = sonuc * sayi\n",
    "    sayi -= 1\n",
    "print(f'Sonuc: {sonuc}')"
   ]
  },
  {
   "cell_type": "markdown",
   "metadata": {},
   "source": [
    "range\n"
   ]
  },
  {
   "cell_type": "code",
   "execution_count": 15,
   "metadata": {},
   "outputs": [
    {
     "data": {
      "text/plain": [
       "range(0, 10)"
      ]
     },
     "execution_count": 15,
     "metadata": {},
     "output_type": "execute_result"
    }
   ],
   "source": [
    "list(range(10))  # [0, 1, 2, 3, 4, 5, 6, 7, 8, 9]\n",
    "range(10)  # [start:end]"
   ]
  },
  {
   "cell_type": "code",
   "execution_count": null,
   "metadata": {},
   "outputs": [],
   "source": [
    "liste = [1, 2, 3]"
   ]
  },
  {
   "cell_type": "code",
   "execution_count": 16,
   "metadata": {},
   "outputs": [
    {
     "data": {
      "text/plain": [
       "[0, 1, 2, 3, 4, 5, 6, 7, 8, 9]"
      ]
     },
     "execution_count": 16,
     "metadata": {},
     "output_type": "execute_result"
    }
   ],
   "source": [
    "[*range(10)]"
   ]
  },
  {
   "cell_type": "code",
   "execution_count": 17,
   "metadata": {},
   "outputs": [
    {
     "data": {
      "text/plain": [
       "[2, 3, 4, 5, 6]"
      ]
     },
     "execution_count": 17,
     "metadata": {},
     "output_type": "execute_result"
    }
   ],
   "source": [
    "[*range(2, 7)]"
   ]
  },
  {
   "cell_type": "code",
   "execution_count": 18,
   "metadata": {},
   "outputs": [
    {
     "data": {
      "text/plain": [
       "[2, 4, 6]"
      ]
     },
     "execution_count": 18,
     "metadata": {},
     "output_type": "execute_result"
    }
   ],
   "source": [
    "[*range(2, 7, 2)]"
   ]
  },
  {
   "cell_type": "code",
   "execution_count": 19,
   "metadata": {},
   "outputs": [
    {
     "name": "stdout",
     "output_type": "stream",
     "text": [
      "**********"
     ]
    }
   ],
   "source": [
    "for sayi in range(10):\n",
    "    print(\"*\", end=\"\")\n",
    "# 10 tane sayi yazdirdim"
   ]
  },
  {
   "cell_type": "code",
   "execution_count": 36,
   "metadata": {},
   "outputs": [
    {
     "name": "stdout",
     "output_type": "stream",
     "text": [
      "[1, 2, 3, 4, 5, 6, 7, 8, 9, 10]\n",
      "**********10\n",
      "[1, 2, 3, 4, 5, 6, 7, 8, 9]\n",
      "*********9\n",
      "[1, 2, 3, 4, 5, 6, 7, 8]\n",
      "********8\n",
      "[1, 2, 3, 4, 5, 6, 7]\n",
      "*******7\n",
      "[1, 2, 3, 4, 5, 6]\n",
      "******6\n",
      "[1, 2, 3, 4, 5]\n",
      "*****5\n",
      "[1, 2, 3, 4]\n",
      "****4\n",
      "[1, 2, 3]\n",
      "***3\n",
      "[1, 2]\n",
      "**2\n",
      "[1]\n",
      "*1\n"
     ]
    }
   ],
   "source": [
    "x = 10\n",
    "while x > 0:\n",
    "    print(list(range(1, x+1)))\n",
    "    for sayi in range(1, x+1):\n",
    "        print(\"*\", end=\"\")\n",
    "    print(x)\n",
    "    x -= 1"
   ]
  },
  {
   "cell_type": "code",
   "execution_count": 44,
   "metadata": {},
   "outputs": [
    {
     "name": "stdout",
     "output_type": "stream",
     "text": [
      "0 = Bu sayı kucuktur.\n",
      "1 = Bu sayı kucuktur.\n",
      "2 = Bu sayı kucuktur.\n",
      "3 = Bu sayı kucuktur.\n",
      "4 = Bu sayı kucuktur.\n",
      "5 = Bu sayı eşittir.\n",
      "6 = Bu sayı büyüktur\n",
      "7 = Bu sayı büyüktur\n",
      "8 = Bu sayı büyüktur\n",
      "9 = Bu sayı büyüktur\n",
      "10 = Bu sayı büyüktur\n"
     ]
    }
   ],
   "source": [
    "for sayi in range(11):\n",
    "    if sayi > 5:\n",
    "        print(f\"{sayi} = Bu sayı büyüktur\")\n",
    "    elif sayi == 5:\n",
    "        print(f\"{sayi} = Bu sayı eşittir.\")\n",
    "    elif sayi < 5:\n",
    "        print(f\"{sayi} = Bu sayı kucuktur.\")"
   ]
  },
  {
   "cell_type": "markdown",
   "metadata": {},
   "source": [
    "enumerate\n"
   ]
  },
  {
   "cell_type": "code",
   "execution_count": 48,
   "metadata": {},
   "outputs": [
    {
     "name": "stdout",
     "output_type": "stream",
     "text": [
      "(0, 'a')\n",
      "(1, 'b')\n",
      "(2, 'c')\n",
      "(3, 'd')\n",
      "(4, 'e')\n"
     ]
    }
   ],
   "source": [
    "harfler = [\"a\", \"b\", \"c\", \"d\", \"e\"]\n",
    "for harf in enumerate(harfler):\n",
    "    print(harf)"
   ]
  },
  {
   "cell_type": "code",
   "execution_count": 52,
   "metadata": {},
   "outputs": [
    {
     "name": "stdout",
     "output_type": "stream",
     "text": [
      "1.index = a\n",
      "2.index = b\n",
      "3.index = c\n",
      "4.index = d\n",
      "5.index = e\n"
     ]
    }
   ],
   "source": [
    "harfler = [\"a\", \"b\", \"c\", \"d\", \"e\"]\n",
    "for index, harf in enumerate(harfler):\n",
    "    print(f\"{index+1}.index = {harf}\")"
   ]
  },
  {
   "cell_type": "markdown",
   "metadata": {},
   "source": [
    "zip\n"
   ]
  },
  {
   "cell_type": "code",
   "execution_count": 59,
   "metadata": {},
   "outputs": [
    {
     "name": "stdout",
     "output_type": "stream",
     "text": [
      "('TR', 1)\n",
      "('FR', 2)\n",
      "('DE', 3)\n"
     ]
    }
   ],
   "source": [
    "ulkeler = [\"TR\", \"FR\", \"DE\"]\n",
    "siramalar = range(1,4)\n",
    "# print(len(siramalar)) 3\n",
    "# print(len(ulkeler)) 3\n",
    "\n",
    "for ulke in zip(ulkeler, siramalar):\n",
    "    print(ulke)"
   ]
  },
  {
   "cell_type": "code",
   "execution_count": null,
   "metadata": {},
   "outputs": [],
   "source": []
  }
 ],
 "metadata": {
  "kernelspec": {
   "display_name": "Python 3",
   "language": "python",
   "name": "python3"
  },
  "language_info": {
   "codemirror_mode": {
    "name": "ipython",
    "version": 3
   },
   "file_extension": ".py",
   "mimetype": "text/x-python",
   "name": "python",
   "nbconvert_exporter": "python",
   "pygments_lexer": "ipython3",
   "version": "3.12.0"
  }
 },
 "nbformat": 4,
 "nbformat_minor": 2
}
